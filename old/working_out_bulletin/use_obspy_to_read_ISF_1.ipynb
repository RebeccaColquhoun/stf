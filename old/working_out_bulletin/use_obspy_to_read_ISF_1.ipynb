{
 "cells": [
  {
   "cell_type": "code",
   "execution_count": 18,
   "metadata": {},
   "outputs": [],
   "source": [
    "import obspy\n",
    "import urllib\n",
    "import html2text"
   ]
  },
  {
   "cell_type": "code",
   "execution_count": 19,
   "metadata": {},
   "outputs": [],
   "source": [
    "link = \"http://www.isc.ac.uk/cgi-bin/web-db-run?request=COMPREHENSIVE&out_format=ISF&searchshape=RECT&bot_lat=&top_lat=&left_lon=&right_lon=&ctr_lat=&ctr_lon=&radius=&max_dist_units=deg&srn=&grn=&start_year=2021&start_month=2&start_day=28&start_time=00%3A00%3A00&end_year=2021&end_month=3&end_day=01&end_time=00%3A00%3A00&min_dep=&max_dep=&min_mag=5.5&max_mag=&req_mag_type=&req_mag_agcy=GCMT&min_def=&max_def=&include_magnitudes=on&include_links=on&include_headers=on&include_comments=on\"\n",
    "f = urllib.request.urlretrieve(link, 'test_isf1.txt')\n",
    "#myfile = f.read()\n",
    "j = open('test_isf1.txt')\n",
    "k = j.read()\n",
    "rendered_content = html2text.html2text(k)"
   ]
  },
  {
   "cell_type": "code",
   "execution_count": 25,
   "metadata": {},
   "outputs": [
    {
     "name": "stdout",
     "output_type": "stream",
     "text": [
      "False\n"
     ]
    }
   ],
   "source": [
    "with open('rendered_content_isf1.txt','w') as f:\n",
    "    f.write(rendered_content)\n",
    "with open(\"rendered_content_isf1.txt\", \"r\") as f:\n",
    "    print(obspy.io.iaspei.core._is_ims10_bulletin(f))\n",
    "    isf1 = f.read()\n"
   ]
  },
  {
   "cell_type": "code",
   "execution_count": 26,
   "metadata": {},
   "outputs": [
    {
     "name": "stdout",
     "output_type": "stream",
     "text": [
      "False\n"
     ]
    }
   ],
   "source": [
    "with open(\"rendered_content_isf1.txt\", \"r\") as f:\n",
    "    print(obspy.io.iaspei.core._is_ims10_bulletin(f))\n",
    "    isf1 = f.read()"
   ]
  },
  {
   "cell_type": "code",
   "execution_count": 9,
   "metadata": {},
   "outputs": [
    {
     "ename": "ModuleNotFoundError",
     "evalue": "No module named 'obspy.io.iaspei.core.ISFReader'; 'obspy.io.iaspei.core' is not a package",
     "output_type": "error",
     "traceback": [
      "\u001b[0;31m---------------------------------------------------------------------------\u001b[0m",
      "\u001b[0;31mModuleNotFoundError\u001b[0m                       Traceback (most recent call last)",
      "Cell \u001b[0;32mIn[9], line 1\u001b[0m\n\u001b[0;32m----> 1\u001b[0m \u001b[39mimport\u001b[39;00m \u001b[39mobspy\u001b[39;00m\u001b[39m.\u001b[39;00m\u001b[39mio\u001b[39;00m\u001b[39m.\u001b[39;00m\u001b[39miaspei\u001b[39;00m\u001b[39m.\u001b[39;00m\u001b[39mcore\u001b[39;00m\u001b[39m.\u001b[39;00m\u001b[39mISFReader\u001b[39;00m\n",
      "\u001b[0;31mModuleNotFoundError\u001b[0m: No module named 'obspy.io.iaspei.core.ISFReader'; 'obspy.io.iaspei.core' is not a package"
     ]
    }
   ],
   "source": [
    "import obspy.io.iaspei.core.ISFReader\n"
   ]
  },
  {
   "cell_type": "code",
   "execution_count": 23,
   "metadata": {},
   "outputs": [
    {
     "data": {
      "text/plain": [
       "False"
      ]
     },
     "execution_count": 23,
     "metadata": {},
     "output_type": "execute_result"
    }
   ],
   "source": [
    "obspy.io.iaspei.core._is_ims10_bulletin(isf1)"
   ]
  },
  {
   "cell_type": "code",
   "execution_count": null,
   "metadata": {},
   "outputs": [],
   "source": []
  }
 ],
 "metadata": {
  "kernelspec": {
   "display_name": "stf",
   "language": "python",
   "name": "python3"
  },
  "language_info": {
   "codemirror_mode": {
    "name": "ipython",
    "version": 3
   },
   "file_extension": ".py",
   "mimetype": "text/x-python",
   "name": "python",
   "nbconvert_exporter": "python",
   "pygments_lexer": "ipython3",
   "version": "3.10.9"
  },
  "orig_nbformat": 4,
  "vscode": {
   "interpreter": {
    "hash": "baa20c5da3feb4e55e9fc54291d7431e59c71f26da57c3088e8d69b891cd2eb7"
   }
  }
 },
 "nbformat": 4,
 "nbformat_minor": 2
}

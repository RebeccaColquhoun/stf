{
 "cells": [
  {
   "cell_type": "markdown",
   "id": "2c11c298-e310-4a18-9f5c-be0893c71371",
   "metadata": {},
   "source": [
    "Building url and reading data"
   ]
  },
  {
   "cell_type": "code",
   "execution_count": 2,
   "id": "1335c077-dcaa-46a8-b972-37e1d18e0cfc",
   "metadata": {},
   "outputs": [],
   "source": [
    "import urllib\n",
    "import html2text"
   ]
  },
  {
   "cell_type": "markdown",
   "id": "4202ca87",
   "metadata": {},
   "source": [
    "get data from url, and remove html tags"
   ]
  },
  {
   "cell_type": "code",
   "execution_count": 3,
   "id": "913b6c8d-5825-407c-ad32-cb147f181f81",
   "metadata": {
    "tags": []
   },
   "outputs": [],
   "source": [
    "link = \"http://www.isc.ac.uk/cgi-bin/web-db-run?request=COMPREHENSIVE&out_format=ISF2&searchshape=RECT&bot_lat=&top_lat=&left_lon=&right_lon=&ctr_lat=&ctr_lon=&radius=&max_dist_units=deg&srn=&grn=&start_year=2021&start_month=2&start_day=28&start_time=00%3A00%3A00&end_year=2021&end_month=3&end_day=01&end_time=00%3A00%3A00&min_dep=&max_dep=&min_mag=5.5&max_mag=&req_mag_type=&req_mag_agcy=GCMT&min_def=&max_def=&include_magnitudes=on&include_links=on&include_headers=on&include_comments=on\"\n",
    "f = urllib.request.urlretrieve(link, 'test.txt')\n",
    "#myfile = f.read()\n",
    "j = open('test.txt')\n",
    "k = j.read()\n",
    "rendered_content = html2text.html2text(k)"
   ]
  },
  {
   "cell_type": "markdown",
   "id": "04c150a3",
   "metadata": {},
   "source": [
    "save to a text file"
   ]
  },
  {
   "cell_type": "code",
   "execution_count": 41,
   "id": "6a28396a-7d17-496c-b8c6-f0fc2453e7a7",
   "metadata": {},
   "outputs": [],
   "source": [
    "with open('rendered_content.txt','w') as f:\n",
    "    f.write(rendered_content)"
   ]
  },
  {
   "cell_type": "markdown",
   "id": "627de5b4",
   "metadata": {},
   "source": [
    "open from text file"
   ]
  },
  {
   "cell_type": "code",
   "execution_count": 72,
   "id": "90bb293b-d781-4f13-a890-50be43996bf1",
   "metadata": {},
   "outputs": [],
   "source": [
    "with open(\"rendered_content.txt\", \"r\") as f:\n",
    "    r = f.read()"
   ]
  },
  {
   "cell_type": "markdown",
   "id": "8bd198c7",
   "metadata": {},
   "source": [
    "split at \"Event \". other than the first one, this will divide out the events."
   ]
  },
  {
   "cell_type": "code",
   "execution_count": 80,
   "id": "0acf5ba0-19b8-46aa-af6d-11eca70712be",
   "metadata": {},
   "outputs": [],
   "source": [
    "sp = r.split('Event ')"
   ]
  },
  {
   "cell_type": "markdown",
   "id": "2ad7ce71",
   "metadata": {},
   "source": [
    "for each event, split at new lines"
   ]
  },
  {
   "cell_type": "code",
   "execution_count": 88,
   "id": "672016e7-af36-4572-a408-dfdf4212e3b5",
   "metadata": {},
   "outputs": [],
   "source": [
    "for i in range(1, len(sp)):\n",
    "     split_at_new_lines = sp[i].split('\\n')"
   ]
  },
  {
   "cell_type": "markdown",
   "id": "3eb6df32",
   "metadata": {},
   "source": [
    "see if each line has the normalised_stf title. if it does then take the following 32 lines as these contain the data.\n",
    "\n",
    "in the future, could automate to check its 32 lines?"
   ]
  },
  {
   "cell_type": "code",
   "execution_count": 98,
   "id": "f8ef2176-3e54-459e-a0ea-e6db2d73e585",
   "metadata": {},
   "outputs": [],
   "source": [
    "for s in range(0, len(split_at_new_lines)):\n",
    "    if '#NORMALISED_STF' in split_at_new_lines[s]:\n",
    "        stf = split_at_new_lines[s+1:s+33]"
   ]
  },
  {
   "cell_type": "markdown",
   "id": "5acc7eee",
   "metadata": {},
   "source": [
    "with those 32 lines, split them at space. then get rid of everything which isn't a number, and put float versions of the string numbers into a list"
   ]
  },
  {
   "cell_type": "code",
   "execution_count": 121,
   "id": "618bc200-2d48-47ac-90d3-d66ec33cf661",
   "metadata": {},
   "outputs": [],
   "source": [
    "stf_list = []\n",
    "for line in stf:\n",
    "    for item in line.split(' '):\n",
    "        if item not in ['', '#', '(#', ')']:\n",
    "            stf_list.append(float(item))"
   ]
  },
  {
   "cell_type": "code",
   "execution_count": null,
   "id": "28fe6a76-8a79-4ceb-b8db-d82ea60b8699",
   "metadata": {},
   "outputs": [
    {
     "ename": "",
     "evalue": "",
     "output_type": "error",
     "traceback": [
      "\u001b[1;31mRunning cells with '/Users/rebecca/.pyenv/versions/3.10-dev/bin/python' requires the ipykernel package.\n",
      "\u001b[1;31mRun the following command to install 'ipykernel' into the Python environment. \n",
      "\u001b[1;31mCommand: '/Users/rebecca/.pyenv/versions/3.10-dev/bin/python -m pip install ipykernel -U --force-reinstall'"
     ]
    }
   ],
   "source": [
    "import matplotlib.pyplot as plt\n",
    "plt.plot(stf_list)"
   ]
  },
  {
   "cell_type": "code",
   "execution_count": null,
   "id": "5e79f831",
   "metadata": {},
   "outputs": [],
   "source": []
  }
 ],
 "metadata": {
  "kernelspec": {
   "display_name": "Python 3 (ipykernel)",
   "language": "python",
   "name": "python3"
  },
  "language_info": {
   "codemirror_mode": {
    "name": "ipython",
    "version": 3
   },
   "file_extension": ".py",
   "mimetype": "text/x-python",
   "name": "python",
   "nbconvert_exporter": "python",
   "pygments_lexer": "ipython3",
   "version": "3.10.9"
  },
  "vscode": {
   "interpreter": {
    "hash": "63f2f39890bef068985be9fad106753cd2997b3515e5dc4a93391a7f1c5aaaae"
   }
  }
 },
 "nbformat": 4,
 "nbformat_minor": 5
}

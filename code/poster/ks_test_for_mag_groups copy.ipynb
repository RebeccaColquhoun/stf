{
 "cells": [
  {
   "cell_type": "code",
   "execution_count": 18,
   "metadata": {},
   "outputs": [],
   "source": [
    "import os\n",
    "\n",
    "import matplotlib.pyplot as plt\n",
    "import numpy as np\n",
    "import pandas as pd\n",
    "import scipy\n",
    "from scipy import stats\n",
    "\n",
    "import obspy.geodetics.flinnengdahl as flinnengdahl\n",
    "fe = flinnengdahl.FlinnEngdahl()\n",
    "\n",
    "import cmcrameri.cm as cmc"
   ]
  },
  {
   "cell_type": "code",
   "execution_count": 4,
   "metadata": {},
   "outputs": [],
   "source": [
    "def myround(x, base=5):\n",
    "    return base * round(x/base)"
   ]
  },
  {
   "cell_type": "code",
   "execution_count": 5,
   "metadata": {},
   "outputs": [],
   "source": [
    "combined = pd.read_csv('/home/earthquakes1/homes/Rebecca/phd/stf/data/combined.csv')"
   ]
  },
  {
   "cell_type": "code",
   "execution_count": 6,
   "metadata": {},
   "outputs": [],
   "source": [
    "def get_stf(scardec_name, wanted_type = 'fctopt'):\n",
    "    db = combined[combined['scardec_name']==scardec_name]\n",
    "\n",
    "    time = []\n",
    "    momentrate = []\n",
    "\n",
    "    event = os.listdir(f'/home/earthquakes1/homes/Rebecca/phd/stf/data/scardec/{scardec_name}')\n",
    "    starts = [n for n, l in enumerate(event) if l.startswith(wanted_type)]\n",
    "    with open(f'/home/earthquakes1/homes/Rebecca/phd/stf/data/scardec/{scardec_name}/{event[starts[0]]}') as f:\n",
    "        lines = f.read().splitlines()\n",
    "\n",
    "    lines = lines[2:]\n",
    "    for line in lines:\n",
    "        split = line.split(' ')\n",
    "        split = [s for s in split if s not in ['', ' ', '\\n']]\n",
    "        time.append(float(split[0]))\n",
    "        momentrate.append(float(split[1]))\n",
    "\n",
    "    momentrate = np.array(momentrate)\n",
    "    return momentrate, time, db"
   ]
  },
  {
   "cell_type": "code",
   "execution_count": 7,
   "metadata": {},
   "outputs": [],
   "source": [
    "def get_mag(scardec_name):\n",
    "    db = combined[combined['scardec_name']==scardec_name]\n",
    "    mag = db['scardec_magnitude'].values[0]\n",
    "    return mag\n",
    "\n",
    "def get_date(scardec_name):\n",
    "    db = combined[combined['scardec_name']==scardec_name]\n",
    "    year = db['year'].values[0]\n",
    "    month = db['month'].values[0]\n",
    "    day = db['day'].values[0]\n",
    "    return year, month, day"
   ]
  },
  {
   "cell_type": "code",
   "execution_count": 8,
   "metadata": {},
   "outputs": [],
   "source": [
    "# looks for time value of root\n",
    "def f3(end_time, total_moment, time_opt, momentrate_opt, start, points_before_zero, proportion = 0.1):\n",
    "    dx = time_opt[1]-time_opt[0]\n",
    "    end_window = (end_time/dx)+points_before_zero\n",
    "    end = int(np.floor(end_window))\n",
    "    if start == end:\n",
    "        end += 1\n",
    "    short = scipy.integrate.simpson(momentrate_opt[start:end], dx = dx)\n",
    "    return short-(total_moment*proportion)"
   ]
  },
  {
   "cell_type": "code",
   "execution_count": 9,
   "metadata": {},
   "outputs": [],
   "source": [
    "def bootstrap(data, n=1000, proportion = 1):\n",
    "    \"\"\"Bootstrap resampling of data.\n",
    "\n",
    "    Args:\n",
    "        data: 1D array of data to be resampled.\n",
    "        n: number of resamples to take.\n",
    "\n",
    "    Returns:\n",
    "        resampled data.\n",
    "    \"\"\"\n",
    "\n",
    "    rng = np.random.default_rng()\n",
    "\n",
    "    resampled_data = rng.choice(data, (n, int(len(data)*proportion)), replace = True)\n",
    "\n",
    "    return resampled_data"
   ]
  },
  {
   "cell_type": "code",
   "execution_count": 10,
   "metadata": {},
   "outputs": [],
   "source": [
    "def convert_fe_subdivisions_to_regions(subdivision):\n",
    "    final_values = [17, 29, 46, 52, 71, 83, 101, 142, 146, 157, 168, 179, 182, 189,\n",
    "                    195, 208, 210, 216, 230, 241, 247, 260, 272, 293, 301, 319, 325,\n",
    "                    334, 356, 375, 401, 414, 437, 527, 531, 549, 587, 610, 632, 655,\n",
    "                    666, 682, 692, 699, 702, 708, 712, 720, 726, 729]\n",
    "\n",
    "    if subdivision < 730:\n",
    "        for index, max_value in enumerate(final_values):\n",
    "            if subdivision <= max_value:\n",
    "                return index+1\n",
    "    else:\n",
    "        if subdivision == 730:\n",
    "            return 5\n",
    "        elif subdivision == 731:\n",
    "            return 7\n",
    "        elif subdivision == 732:\n",
    "            return 10\n",
    "        elif subdivision in [733, 734, 735, 736, 737]:\n",
    "            return 25\n",
    "        elif subdivision in [738, 739]:\n",
    "            return 32\n",
    "        elif subdivision in [740, 741, 742]:\n",
    "            return 33\n",
    "        elif subdivision in [743, 744, 745, 746, 747, 748, 749, 750, 751, 752, 753, 754, 755]:\n",
    "            return 37\n",
    "        elif subdivision == 756:\n",
    "            return 43\n",
    "        elif subdivision == 757:\n",
    "            return 44\n",
    "        else:\n",
    "            return None\n"
   ]
  },
  {
   "cell_type": "code",
   "execution_count": 11,
   "metadata": {},
   "outputs": [],
   "source": [
    "proportions_list = [0.1, 0.2, 0.3, 0.4, 0.5, 0.6, 0.7, 0.8, 0.9]\n",
    "\n",
    "all_durations = []\n",
    "all_root_times = []\n",
    "all_moments = []\n",
    "all_relative_root_times = []\n",
    "\n",
    "results_db = pd.DataFrame(columns = ['scardec_name', 'magnitude', 'int_magnitude', 'year', 'month', 'day', 'latitude', 'longitude', 'depth', 'FE', 'region', '10', '20', '30', '40', '50', '60', '70', '80', '90'])\n",
    "\n",
    "colors = {'10': 'dodgerblue',\n",
    "          '20': 'darkorange',\n",
    "          '30': 'green',\n",
    "          '40': 'red',\n",
    "          '50': 'purple',\n",
    "          '60': 'blue',\n",
    "          '70': 'orange',\n",
    "          '80': 'green',\n",
    "          '90': 'red'}\n",
    "\n",
    "for scardec_name in os.listdir('/home/earthquakes1/homes/Rebecca/phd/stf/data/scardec'):\n",
    "    #print(scardec_name)\n",
    "\n",
    "    db = combined[combined['scardec_name']==scardec_name]\n",
    "    momentrate_opt, time_opt, db = get_stf(scardec_name, wanted_type = 'fctmoy')\n",
    "\n",
    "    not_zero = np.where(momentrate_opt > 0)[0]\n",
    "\n",
    "    dx = time_opt[1]-time_opt[0]\n",
    "\n",
    "    start = min(not_zero)\n",
    "    end = max(not_zero)\n",
    "    points_before_zero = abs(min(time_opt)/dx)\n",
    "\n",
    "    duration = time_opt[end] - time_opt[start]\n",
    "\n",
    "    start_time = time_opt[start]\n",
    "    end_time = time_opt[end]\n",
    "\n",
    "    total_moment = scipy.integrate.simpson(momentrate_opt[start:end], dx = time_opt[1]-time_opt[0])\n",
    "\n",
    "    relative_root_times = []\n",
    "    for proportion in proportions_list:\n",
    "        root, r = scipy.optimize.bisect(f3,\n",
    "                                        start_time+dx,\n",
    "                                        end_time,\n",
    "                                        rtol = 1e-6,\n",
    "                                        full_output = True,\n",
    "                                        args = (total_moment,\n",
    "                                                time_opt,\n",
    "                                                momentrate_opt,\n",
    "                                                start,\n",
    "                                                points_before_zero,\n",
    "                                                proportion,))\n",
    "\n",
    "        root_idx = np.floor(root/dx)\n",
    "        root_time = root_idx*dx\n",
    "        relative_root_times.append((root_time-start_time)/duration)\n",
    "    mags = get_mag(scardec_name)\n",
    "    int_mags = int(mags)\n",
    "\n",
    "    fe_region = fe.get_number(db['longitude'].values[0], db['latitude'].values[0])\n",
    "\n",
    "    region = convert_fe_subdivisions_to_regions(fe_region)\n",
    "\n",
    "    list_for_database = [scardec_name, mags, int_mags, *get_date(scardec_name), db['latitude'].values[0], db['longitude'].values[0], db['depth'].values[0], fe_region, region, *relative_root_times]\n",
    "    results_db.loc[len(results_db)] = list_for_database\n"
   ]
  },
  {
   "cell_type": "code",
   "execution_count": 12,
   "metadata": {},
   "outputs": [],
   "source": [
    "results_10 = pd.DataFrame(columns = ['scardec_name', 'magnitude', 'int_magnitude', 'year' ,'month', 'day', 'region', '0_10', '10_20', '20_30', '30_40', '40_50', '50_60', '60_70', '70_80', '80_90', '90_100'])\n",
    "\n",
    "results_10['scardec_name'] = results_db['scardec_name']\n",
    "results_10['magnitude'] = results_db['magnitude']\n",
    "results_10['int_magnitude'] = results_db['int_magnitude']\n",
    "results_10['year'] = results_db['year']\n",
    "results_10['month'] = results_db['month']\n",
    "results_10['day'] = results_db['day']\n",
    "results_10['region'] = results_db['region']\n",
    "\n",
    "results_10['0_10'] = results_db['10']\n",
    "results_10['10_20'] = results_db['20'] - results_db['10']\n",
    "results_10['20_30'] = results_db['30'] - results_db['20']\n",
    "results_10['30_40'] = results_db['40'] - results_db['30']\n",
    "results_10['40_50'] = results_db['50'] - results_db['40']\n",
    "results_10['50_60'] = results_db['60'] - results_db['50']\n",
    "results_10['60_70'] = results_db['70'] - results_db['60']\n",
    "results_10['70_80'] = results_db['80'] - results_db['70']\n",
    "results_10['80_90'] = results_db['90'] - results_db['80']\n",
    "results_10['90_100'] = 1 - results_db['90']\n"
   ]
  },
  {
   "cell_type": "code",
   "execution_count": 13,
   "metadata": {},
   "outputs": [],
   "source": [
    "results_10.sort_values(by = 'year', inplace = True, ignore_index=True)"
   ]
  },
  {
   "cell_type": "code",
   "execution_count": 40,
   "metadata": {},
   "outputs": [],
   "source": [
    "ks_regions = pd.DataFrame(columns = ['1', '2','3', '4', '5', '6', '7', '8', '9', '10', '11', '12', '13', '14', '15', '16', '17', '18', '19', '20', '21', '22', '23', '24', '25', '26', '27', '28', '29', '30', '31', '32', '33', '34', '35', '36', '37', '38', '39', '40', '41', '42', '43', '44', '45', '46', '47', '48', '49', '50'])\n",
    "for region1 in np.arange(1, 51, 1):\n",
    "    region_results_1 = results_10[results_10['region'] == region1]\n",
    "    if len(region_results_1) >= 1:\n",
    "        region2_results = []\n",
    "        for region2 in np.arange(1, 51, 1):\n",
    "            region_results_2 = results_10[results_10['region'] == region2]\n",
    "            if len(region_results_2) >= 1:\n",
    "                #print(region1, region2, stats.kstest(region_results_1['0_10'], region_results_2['0_10']).pvalue)\n",
    "                region2_results.append(stats.kstest(region_results_1['0_10'], region_results_2['0_10']).pvalue)\n",
    "            else:\n",
    "                region2_results.append(None)\n",
    "\n",
    "        ks_regions.loc[region1] = region2_results\n",
    "\n"
   ]
  },
  {
   "cell_type": "markdown",
   "metadata": {},
   "source": [
    "two-sided: The null hypothesis is that the two distributions are identical, F(x)=G(x) for all x; the alternative is that they are not identical.\n",
    "\n",
    "We choose a confidence level of 95%; that is, we will reject the null hypothesis in favor of the alternative if the p-value is less than 0.05.\n",
    "\n",
    "all have a p-value < 0.05\n",
    "\n",
    "thus we reject H0, the distributions are not identical\n"
   ]
  },
  {
   "cell_type": "code",
   "execution_count": 16,
   "metadata": {},
   "outputs": [],
   "source": [
    "bin_list = np.arange(0, 1.01, 0.01)"
   ]
  },
  {
   "cell_type": "code",
   "execution_count": 59,
   "metadata": {},
   "outputs": [
    {
     "data": {
      "text/plain": [
       "index                                                        2902\n",
       "scardec_name     FCTs_20140630_195532_BONIN_ISLANDS__JAPAN_REGION\n",
       "magnitude                                                   6.219\n",
       "int_magnitude                                                   6\n",
       "year                                                         2014\n",
       "month                                                           6\n",
       "day                                                            30\n",
       "region                                                         18\n",
       "0_10                                                     0.304762\n",
       "10_20                                                    0.066667\n",
       "20_30                                                    0.028571\n",
       "30_40                                                    0.028571\n",
       "40_50                                                    0.047619\n",
       "50_60                                                    0.038095\n",
       "60_70                                                    0.085714\n",
       "70_80                                                    0.057143\n",
       "80_90                                                    0.038095\n",
       "90_100                                                   0.304762\n",
       "Name: 2045, dtype: object"
      ]
     },
     "execution_count": 59,
     "metadata": {},
     "output_type": "execute_result"
    }
   ],
   "source": [
    "results_10.sort_values(by='magnitude', inplace = False).reset_index().iloc[2045]"
   ]
  },
  {
   "cell_type": "code",
   "execution_count": 28,
   "metadata": {},
   "outputs": [],
   "source": [
    "def lighten_color(color, amount=0.5):\n",
    "    \"\"\"\n",
    "    Lightens the given color by multiplying (1-luminosity) by the given amount.\n",
    "    Input can be matplotlib color string, hex string, or RGB tuple.\n",
    "\n",
    "    Examples:\n",
    "    >> lighten_color('g', 0.3)\n",
    "    >> lighten_color('#F034A3', 0.6)\n",
    "    >> lighten_color((.3,.55,.1), 0.5)\n",
    "    \"\"\"\n",
    "    import matplotlib.colors as mc\n",
    "    import colorsys\n",
    "    try:\n",
    "        c = mc.cnames[color]\n",
    "    except:\n",
    "        c = color\n",
    "    c = colorsys.rgb_to_hls(*mc.to_rgb(c))\n",
    "    return colorsys.hls_to_rgb(c[0], 1 - amount * (1 - c[1]), c[2])"
   ]
  },
  {
   "cell_type": "code",
   "execution_count": null,
   "metadata": {},
   "outputs": [
    {
     "name": "stdout",
     "output_type": "stream",
     "text": [
      "KstestResult(statistic=0.19799429374441085, pvalue=1.4487769244724602e-35, statistic_location=0.2653846153846154, statistic_sign=-1)\n",
      "KstestResult(statistic=0.12498235634958495, pvalue=2.2118663944107323e-14, statistic_location=0.03296703296703299, statistic_sign=1)\n",
      "KstestResult(statistic=0.14696096195813657, pvalue=1.0004968410469208e-19, statistic_location=0.029661016949152574, statistic_sign=1)\n",
      "KstestResult(statistic=0.09670203690262189, pvalue=8.812957164727562e-09, statistic_location=0.04500000000000004, statistic_sign=1)\n"
     ]
    },
    {
     "data": {
      "image/png": "[encoded data removed]",
      "text/plain": [
       "<Figure size 1600x1600 with 4 Axes>"
      ]
     },
     "metadata": {},
     "output_type": "display_data"
    }
   ],
   "source": [
    "#for window in results_10.columns[7:]:\n",
    "\n",
    "sns.set_theme(style='ticks',\n",
    "              context='poster',\n",
    "              rc={'figure.figsize':(16,16),\n",
    "                  'font.size':36})\n",
    "params = {\"ytick.color\" : \"w\",\n",
    "          \"xtick.color\" : \"w\",\n",
    "          \"axes.labelcolor\" : \"w\",\n",
    "          \"axes.edgecolor\" : \"w\"}\n",
    "plt.rcParams.update(params)\n",
    "\n",
    "fig, axs_list = plt.subplots(2, 2)\n",
    "\n",
    "count = 0\n",
    "i_list = ['0_10', '20_30', '40_50', '70_80']\n",
    "\n",
    "for axs in axs_list:\n",
    "    for ax in axs:\n",
    "        i = i_list[count]\n",
    "        #print(i, j, stats.kstest(results_10[i], results_10[j]))\n",
    "        ax.hist(results_10[results_10['magnitude']<6.219][i],\n",
    "                    bins = bin_list,\n",
    "                    alpha = 1,\n",
    "                    histtype=\"stepfilled\",\n",
    "                    color = 'white')\n",
    "        ax.hist(results_10[results_10['magnitude']>=6.219][i],\n",
    "                    bins = bin_list,\n",
    "                    alpha = 1,\n",
    "                    histtype=\"stepfilled\",\n",
    "                    color = 'white')\n",
    "        ax.hist(results_10[results_10['magnitude']<6.219][i],\n",
    "                    bins = bin_list,\n",
    "                    alpha = 1.0,\n",
    "                    label = 'M<6.219',\n",
    "                    histtype=\"stepfilled\",\n",
    "                    color = lighten_color(cmc.hawaii((int(i.split('_')[0])/100)), 0.7))\n",
    "        ax.hist(results_10[results_10['magnitude']>=6.219][i],\n",
    "                    bins = bin_list,\n",
    "                    alpha = 0.4,\n",
    "                    label = 'M>=6.219',\n",
    "                    histtype=\"stepfilled\",\n",
    "                    color = lighten_color(cmc.hawaii((int(i.split('_')[0])/100)), 1.3))\n",
    "        ax.legend(facecolor = '#002147', edgecolor = 'white', labelcolor = 'white', fontsize = 24, framealpha=0)\n",
    "        #plt.title(f'P value of KS: {stats.kstest(results_10[i], results_10[j]).pvalue:.3e}')\n",
    "        ax.set_xlim(0, 1)\n",
    "        ax.set_xlabel(\"Proportion of duration\")\n",
    "        ax.set_ylabel(\"Number of events\")\n",
    "\n",
    "        print(stats.kstest(results_10[results_10['magnitude']<6.219][i],results_10[results_10['magnitude']>=6.219][i]))\n",
    "        count += 1\n",
    "\n",
    "\n",
    "#axs.set_title(f\"{stats.kstest(results_10[results_10['magnitude']<6.219][window],results_10[results_10['magnitude']>=6.219][window]).pvalue:.3e}\")\n",
    "plt.tight_layout()\n",
    "plt.savefig(f'/home/earthquakes1/homes/Rebecca/phd/stf/figures/poster/ks_test_M6_219.png', dpi = 300, transparent = True)\n",
    "plt.show()"
   ]
  },
  {
   "cell_type": "code",
   "execution_count": null,
   "metadata": {},
   "outputs": [],
   "source": []
  }
 ],
 "metadata": {
  "kernelspec": {
   "display_name": "rlc5",
   "language": "python",
   "name": "python3"
  },
  "language_info": {
   "codemirror_mode": {
    "name": "ipython",
    "version": 3
   },
   "file_extension": ".py",
   "mimetype": "text/x-python",
   "name": "python",
   "nbconvert_exporter": "python",
   "pygments_lexer": "ipython3",
   "version": "3.10.11"
  }
 },
 "nbformat": 4,
 "nbformat_minor": 2
}

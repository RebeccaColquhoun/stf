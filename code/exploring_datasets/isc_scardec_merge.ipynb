{
 "cells": [
  {
   "cell_type": "code",
   "execution_count": 140,
   "metadata": {},
   "outputs": [],
   "source": [
    "import pandas as pd\n",
    "import numpy as np\n",
    "import matplotlib.pyplot as plt\n",
    "import datetime\n"
   ]
  },
  {
   "cell_type": "code",
   "execution_count": 141,
   "metadata": {},
   "outputs": [],
   "source": [
    "scardec = pd.read_csv('/home/earthquakes1/homes/Rebecca/phd/stf/data/scardec.csv')\n",
    "isc = pd.read_csv('/home/earthquakes1/homes/Rebecca/phd/stf/data/isc.csv')"
   ]
  },
  {
   "cell_type": "code",
   "execution_count": 142,
   "metadata": {},
   "outputs": [],
   "source": [
    "new_index = []\n",
    "old_index = []\n",
    "no_match = []\n",
    "for i in range(0,len(isc)):\n",
    "    df_tall = scardec[(scardec['year'] == isc.year[i])\n",
    "                        & (scardec['month'] == isc.month[i])\n",
    "                        & (scardec['day'] == isc.day[i])\n",
    "                        & (scardec['hour'] == isc.hour[i])\n",
    "                        & (scardec['minute'] == isc.minute[i])]\n",
    "    #print(df_tall.index)\n",
    "    if df_tall.index.size == 0:\n",
    "        no_match.append(i)\n",
    "    else:\n",
    "        old_index.append(i)\n",
    "        new_index.append(df_tall.index[0])"
   ]
  },
  {
   "cell_type": "code",
   "execution_count": 143,
   "metadata": {},
   "outputs": [],
   "source": [
    "isc_filtered = isc.filter(items=old_index, axis=0)\n",
    "isc_nomatch = isc.filter(items=no_match, axis=0)"
   ]
  },
  {
   "cell_type": "code",
   "execution_count": 145,
   "metadata": {},
   "outputs": [],
   "source": [
    "isc_filtered.index = new_index\n",
    "isc_nomatch.index = np.arange(4089, 4089+len(isc_nomatch))"
   ]
  },
  {
   "cell_type": "code",
   "execution_count": 146,
   "metadata": {},
   "outputs": [],
   "source": [
    "combined = pd.concat([scardec, isc_filtered], axis=0, join='outer')\n",
    "combined = pd.concat([combined, isc_nomatch], axis=0, join='outer')"
   ]
  },
  {
   "cell_type": "code",
   "execution_count": 148,
   "metadata": {},
   "outputs": [
    {
     "data": {
      "text/plain": [
       "Index(['scardec_name', 'year', 'month', 'day', 'hour', 'minute', 'second',\n",
       "       'latitude', 'longitude', 'depth', 'scardec_magnitude',\n",
       "       'scardec_mag_type', 'moment', 'isc_name', 'isc_magnitude',\n",
       "       'isc_mag_type', 'isc_mag_unc'],\n",
       "      dtype='object')"
      ]
     },
     "execution_count": 148,
     "metadata": {},
     "output_type": "execute_result"
    }
   ],
   "source": [
    "combined.columns"
   ]
  },
  {
   "cell_type": "code",
   "execution_count": 149,
   "metadata": {},
   "outputs": [],
   "source": [
    "cols = ['scardec_name', 'isc_name', 'year', 'month', 'day', 'hour', 'minute', 'second',\n",
    "       'latitude', 'longitude', 'depth', 'scardec_magnitude',\n",
    "       'scardec_mag_type', 'moment', 'isc_magnitude',\n",
    "       'isc_mag_type', 'isc_mag_unc']"
   ]
  },
  {
   "cell_type": "code",
   "execution_count": 150,
   "metadata": {},
   "outputs": [],
   "source": [
    "combined = combined[cols]"
   ]
  },
  {
   "cell_type": "code",
   "execution_count": 173,
   "metadata": {},
   "outputs": [],
   "source": [
    "combined.sort_values(by=['year', 'month', 'day', 'hour', 'minute', 'second'], inplace=True)"
   ]
  },
  {
   "cell_type": "code",
   "execution_count": null,
   "metadata": {},
   "outputs": [],
   "source": [
    "start = datetime.datetime(1992, 1, 1)\n",
    "days_count = []\n",
    "for index, row in combined.iterrows():\n",
    "    event_date = datetime.datetime(row.year, row.month, row.day)\n",
    "    days_count.append((event_date-start).days)\n",
    "combined['days_count'] = days_count"
   ]
  },
  {
   "cell_type": "code",
   "execution_count": 198,
   "metadata": {},
   "outputs": [],
   "source": [
    "combined.to_csv('/home/earthquakes1/homes/Rebecca/phd/stf/data/combined.csv', index=False)"
   ]
  },
  {
   "cell_type": "code",
   "execution_count": null,
   "metadata": {},
   "outputs": [],
   "source": []
  }
 ],
 "metadata": {
  "kernelspec": {
   "display_name": "rlc5",
   "language": "python",
   "name": "python3"
  },
  "language_info": {
   "codemirror_mode": {
    "name": "ipython",
    "version": 3
   },
   "file_extension": ".py",
   "mimetype": "text/x-python",
   "name": "python",
   "nbconvert_exporter": "python",
   "pygments_lexer": "ipython3",
   "version": "3.10.11"
  }
 },
 "nbformat": 4,
 "nbformat_minor": 2
}

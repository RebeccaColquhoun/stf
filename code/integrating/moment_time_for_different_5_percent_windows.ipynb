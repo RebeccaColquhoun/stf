{
 "cells": [
  {
   "cell_type": "code",
   "execution_count": 1,
   "metadata": {},
   "outputs": [],
   "source": [
    "import os\n",
    "\n",
    "import matplotlib.pyplot as plt\n",
    "import numpy as np\n",
    "import pandas as pd\n",
    "import scipy"
   ]
  },
  {
   "cell_type": "code",
   "execution_count": 2,
   "metadata": {},
   "outputs": [],
   "source": [
    "def myround(x, base=5):\n",
    "    return base * round(x/base)"
   ]
  },
  {
   "cell_type": "code",
   "execution_count": 3,
   "metadata": {},
   "outputs": [],
   "source": [
    "combined = pd.read_csv('/home/earthquakes1/homes/Rebecca/phd/stf/data/combined.csv')"
   ]
  },
  {
   "cell_type": "code",
   "execution_count": 4,
   "metadata": {},
   "outputs": [],
   "source": [
    "def get_stf(scardec_name, wanted_type = 'fctopt'):\n",
    "    db = combined[combined['scardec_name']==scardec_name]\n",
    "\n",
    "    time = []\n",
    "    momentrate = []\n",
    "\n",
    "    event = os.listdir(f'/home/earthquakes1/homes/Rebecca/phd/stf/data/scardec/{scardec_name}')\n",
    "    starts = [n for n, l in enumerate(event) if l.startswith(wanted_type)]\n",
    "    with open(f'/home/earthquakes1/homes/Rebecca/phd/stf/data/scardec/{scardec_name}/{event[starts[0]]}') as f:\n",
    "        lines = f.read().splitlines()\n",
    "\n",
    "    lines = lines[2:]\n",
    "    for line in lines:\n",
    "        split = line.split(' ')\n",
    "        split = [s for s in split if s not in ['', ' ', '\\n']]\n",
    "        time.append(float(split[0]))\n",
    "        momentrate.append(float(split[1]))\n",
    "\n",
    "    momentrate = np.array(momentrate)\n",
    "    return momentrate, time, db"
   ]
  },
  {
   "cell_type": "code",
   "execution_count": 5,
   "metadata": {},
   "outputs": [],
   "source": [
    "def get_mag(scardec_name):\n",
    "    db = combined[combined['scardec_name']==scardec_name]\n",
    "    mag = db['scardec_magnitude'].values[0]\n",
    "    return mag\n",
    "\n",
    "def get_date(scardec_name):\n",
    "    db = combined[combined['scardec_name']==scardec_name]\n",
    "    year = db['year'].values[0]\n",
    "    month = db['month'].values[0]\n",
    "    day = db['day'].values[0]\n",
    "    return year, month, day"
   ]
  },
  {
   "cell_type": "code",
   "execution_count": 6,
   "metadata": {},
   "outputs": [],
   "source": [
    "# looks for time value of root\n",
    "def f3(end_time, total_moment, time_opt, momentrate_opt, start, points_before_zero, proportion = 0.1):\n",
    "    dx = time_opt[1]-time_opt[0]\n",
    "    end_window = (end_time/dx)+points_before_zero\n",
    "    end = int(np.floor(end_window))\n",
    "    if start == end:\n",
    "        end += 1\n",
    "    short = scipy.integrate.simpson(momentrate_opt[start:end], dx = dx)\n",
    "    return short-(total_moment*proportion)"
   ]
  },
  {
   "cell_type": "code",
   "execution_count": 7,
   "metadata": {},
   "outputs": [],
   "source": [
    "def bootstrap(data, n=1000, proportion = 1):\n",
    "    \"\"\"Bootstrap resampling of data.\n",
    "\n",
    "    Args:\n",
    "        data: 1D array of data to be resampled.\n",
    "        n: number of resamples to take.\n",
    "\n",
    "    Returns:\n",
    "        resampled data.\n",
    "    \"\"\"\n",
    "\n",
    "    rng = np.random.default_rng()\n",
    "\n",
    "    resampled_data = rng.choice(data, (n, int(len(data)*proportion)), replace = True)\n",
    "\n",
    "    return resampled_data"
   ]
  },
  {
   "cell_type": "code",
   "execution_count": 8,
   "metadata": {},
   "outputs": [],
   "source": [
    "proportions_list = [0.05, 0.1, 0.15, 0.2, 0.25, 0.3, 0.35, 0.4, 0.45, 0.5, 0.55, 0.6, 0.65, 0.7, 0.75, 0.8, 0.85, 0.9, 0.95]\n",
    "\n",
    "all_durations = []\n",
    "all_root_times = []\n",
    "all_moments = []\n",
    "all_relative_root_times = []\n",
    "\n",
    "results_db = pd.DataFrame(columns = ['scardec_name', 'magnitude', 'int_magnitude', 'year', 'month', 'day', '5', '10', '15', '20', '25', '30', '35', '40', '45', '50', '55', '60', '65', '70', '75', '80', '85', '90', '95'])\n",
    "\n",
    "for scardec_name in os.listdir('/home/earthquakes1/homes/Rebecca/phd/stf/data/scardec'):\n",
    "    #print(scardec_name)\n",
    "    momentrate_opt, time_opt, db = get_stf(scardec_name, wanted_type = 'fctmoy')\n",
    "\n",
    "    not_zero = np.where(momentrate_opt > 0)[0]\n",
    "\n",
    "    dx = time_opt[1]-time_opt[0]\n",
    "\n",
    "    start = min(not_zero)\n",
    "    end = max(not_zero)\n",
    "    points_before_zero = abs(min(time_opt)/dx)\n",
    "\n",
    "    duration = time_opt[end] - time_opt[start]\n",
    "\n",
    "    start_time = time_opt[start]\n",
    "    end_time = time_opt[end]\n",
    "\n",
    "    total_moment = scipy.integrate.simpson(momentrate_opt[start:end], dx = time_opt[1]-time_opt[0])\n",
    "\n",
    "    relative_root_times = []\n",
    "    for proportion in proportions_list:\n",
    "        root, r = scipy.optimize.bisect(f3,\n",
    "                                        start_time+dx,\n",
    "                                        end_time,\n",
    "                                        rtol = 1e-6,\n",
    "                                        full_output = True,\n",
    "                                        args = (total_moment,\n",
    "                                                time_opt,\n",
    "                                                momentrate_opt,\n",
    "                                                start,\n",
    "                                                points_before_zero,\n",
    "                                                proportion,))\n",
    "\n",
    "        root_idx = np.floor(root/dx)\n",
    "        root_time = root_idx*dx\n",
    "        relative_root_times.append((root_time-start_time)/duration)\n",
    "    mags = get_mag(scardec_name)\n",
    "    int_mags = int(mags)\n",
    "\n",
    "    list_for_database = [scardec_name, mags, int_mags, *get_date(scardec_name), *relative_root_times]\n",
    "    results_db.loc[len(results_db)] = list_for_database\n"
   ]
  },
  {
   "cell_type": "code",
   "execution_count": 9,
   "metadata": {},
   "outputs": [],
   "source": [
    "results_5 = pd.DataFrame(columns = ['scardec_name', 'magnitude', 'int_magnitude', 'year' ,'month', 'day', '0_5', '5_10', '10_15', '15_20', '20_25', '25_30', '30_35', '35_40', '40_45', '45_50', '50_55', '55_60', '60_65', '65_70', '70_75', '75_80', '80_85', '85_90', '90_95', '95_100'])\n",
    "\n",
    "results_5['scardec_name'] = results_db['scardec_name']\n",
    "results_5['magnitude'] = results_db['magnitude']\n",
    "results_5['int_magnitude'] = results_db['int_magnitude']\n",
    "results_5['year'] = results_db['year']\n",
    "results_5['month'] = results_db['month']\n",
    "results_5['day'] = results_db['day']\n",
    "\n",
    "results_5['0_5'] = results_db['5']\n",
    "results_5['5_10'] = results_db['10'] - results_db['5']\n",
    "results_5['10_15'] = results_db['15'] - results_db['10']\n",
    "results_5['15_20'] = results_db['20'] - results_db['15']\n",
    "results_5['20_25'] = results_db['25'] - results_db['20']\n",
    "results_5['25_30'] = results_db['30'] - results_db['25']\n",
    "results_5['30_35'] = results_db['35'] - results_db['30']\n",
    "results_5['35_40'] = results_db['40'] - results_db['35']\n",
    "results_5['40_45'] = results_db['45'] - results_db['40']\n",
    "results_5['45_50'] = results_db['50'] - results_db['45']\n",
    "results_5['50_55'] = results_db['55'] - results_db['50']\n",
    "results_5['55_60'] = results_db['60'] - results_db['55']\n",
    "results_5['60_65'] = results_db['65'] - results_db['60']\n",
    "results_5['65_70'] = results_db['70'] - results_db['65']\n",
    "results_5['70_75'] = results_db['75'] - results_db['70']\n",
    "results_5['75_80'] = results_db['80'] - results_db['75']\n",
    "results_5['80_85'] = results_db['85'] - results_db['80']\n",
    "results_5['85_90'] = results_db['90'] - results_db['85']\n",
    "results_5['90_95'] = results_db['95'] - results_db['90']\n",
    "results_5['95_100'] = 1 - results_db['95']\n",
    "\n"
   ]
  },
  {
   "cell_type": "code",
   "execution_count": 10,
   "metadata": {},
   "outputs": [],
   "source": [
    "results_5.sort_values(by = 'year', inplace = True, ignore_index=True)"
   ]
  },
  {
   "cell_type": "code",
   "execution_count": 11,
   "metadata": {},
   "outputs": [],
   "source": [
    "means = results_5[['0_5', '5_10', '10_15', '15_20', '20_25', '25_30', '30_35', '35_40', '40_45', '45_50', '50_55', '55_60', '60_65', '65_70', '70_75', '75_80', '80_85', '85_90', '90_95', '95_100']].mean()"
   ]
  },
  {
   "cell_type": "code",
   "execution_count": 12,
   "metadata": {},
   "outputs": [],
   "source": [
    "upper = []\n",
    "lower = []\n",
    "for col_name in results_5.columns[6:]:\n",
    "    bs_result = bootstrap(results_5[col_name], n=1000).mean(axis=1)\n",
    "    bs_result.sort()\n",
    "    lower.append(bs_result[25])\n",
    "    upper.append(bs_result[975])\n"
   ]
  },
  {
   "cell_type": "code",
   "execution_count": 13,
   "metadata": {},
   "outputs": [
    {
     "data": {
      "image/png": "[encoded data removed]",
      "text/plain": [
       "<Figure size 640x480 with 1 Axes>"
      ]
     },
     "metadata": {},
     "output_type": "display_data"
    }
   ],
   "source": [
    "# Offset the x positions for the three datasets\n",
    "x_positions = np.arange(len(means))\n",
    "\n",
    "# Plot real data\n",
    "plt.plot(x_positions, means, label='all', color='black', alpha = 0.2)\n",
    "\n",
    "#bootstrap data to produce error bars\n",
    "bootstrapped_df = pd.DataFrame(columns = ['0_10', '10_20', '20_30', '30_40', '40_50', '50_60', '60_70', '70_80', '80_90', '90_100'])\n",
    "\n",
    "lb_70 = []\n",
    "ub_70 = []\n",
    "lb_90 = []\n",
    "ub_90 = []\n",
    "lb_95 = []\n",
    "ub_95 = []\n",
    "\n",
    "for col_name in results_5.columns[6:]:\n",
    "    bs_result = bootstrap(results_5[col_name], n=1000, proportion = 1)\n",
    "    bs_result = bs_result.mean(axis=1)\n",
    "    bootstrapped_df[col_name] = bs_result\n",
    "    bs_result.sort()\n",
    "    lb_70.append(bs_result[150])\n",
    "    ub_70.append(bs_result[850])\n",
    "    lb_90.append(bs_result[50])\n",
    "    ub_90.append(bs_result[950])\n",
    "    lb_95.append(bs_result[25])\n",
    "    ub_95.append(bs_result[975])\n",
    "\n",
    "lb_70 = np.array(lb_70)\n",
    "ub_70 = np.array(ub_70)\n",
    "lb_90 = np.array(lb_90)\n",
    "ub_90 = np.array(ub_90)\n",
    "lb_95 = np.array(lb_95)\n",
    "ub_95 = np.array(ub_95)\n",
    "\n",
    "# Error bars\n",
    "eb1 = plt.errorbar(x_positions, means, yerr=[abs(lb_70-means), abs(ub_70-means)], fmt='none', color='red')\n",
    "eb1[-1][0].set_linestyle('solid')\n",
    "eb2 = plt.errorbar(x_positions, means, yerr=[abs(lb_90-means), abs(ub_90-means)], fmt='none', linestyle='dashed', color='red', alpha=0.5)\n",
    "eb2[-1][0].set_linestyle('--')\n",
    "eb3 = plt.errorbar(x_positions, means, yerr=[abs(lb_95-means), abs(ub_95-means)], fmt='none', linestyle='dotted', color='red', alpha=0.5)\n",
    "eb3[-1][0].set_linestyle(':')\n",
    "\n",
    "plt.xticks(x_positions, ['0-5%', '5-10%', '10-15%', '15-20%', '20-25%', '25-30%', '30-35%', '35-40%', '40-45%', '45-50%', '50-55%', '55-60%', '60-65%', '65-70%', '70-75%', '75-80%', '80-85%', '85-90%', '90-95%', '95-100%'], rotation=45)\n",
    "\n",
    "# for legend\n",
    "plt.plot([],[], linestyle = 'solid', color = 'red', label = '1 std')\n",
    "plt.plot([],[], linestyle = 'dashed', color = 'red', label = '2 std', alpha = 0.5)\n",
    "plt.plot([],[], linestyle = 'dotted', color = 'red', label = '3 std', alpha = 0.5)\n",
    "\n",
    "plt.xlabel('Moment interval')\n",
    "plt.ylabel('Time to release given 10% of moment')\n",
    "plt.title('Standard deviation of values')\n",
    "plt.legend(ncol = 2)\n",
    "\n",
    "plt.tight_layout()\n",
    "plt.savefig('/home/earthquakes1/homes/Rebecca/phd/stf/figures/moment_intervals/time_for_10_percent_windows_comparison/bs_values_5_percent_windows.png')\n",
    "plt.show()\n"
   ]
  },
  {
   "cell_type": "code",
   "execution_count": null,
   "metadata": {},
   "outputs": [],
   "source": []
  }
 ],
 "metadata": {
  "kernelspec": {
   "display_name": "Python 3",
   "language": "python",
   "name": "python3"
  },
  "language_info": {
   "codemirror_mode": {
    "name": "ipython",
    "version": 3
   },
   "file_extension": ".py",
   "mimetype": "text/x-python",
   "name": "python",
   "nbconvert_exporter": "python",
   "pygments_lexer": "ipython3",
   "version": "3.10.11"
  }
 },
 "nbformat": 4,
 "nbformat_minor": 2
}

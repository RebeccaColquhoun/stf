{
 "cells": [
  {
   "cell_type": "markdown",
   "metadata": {},
   "source": [
    "based on taking small samples and the CLT, we can then assume a normal distribution of the sample means. Now do KL divergence on this. This lets us work out the limits. "
   ]
  },
  {
   "cell_type": "code",
   "execution_count": 32,
   "metadata": {},
   "outputs": [],
   "source": [
    "import numpy as np\n",
    "import matplotlib.pyplot as plt"
   ]
  },
  {
   "cell_type": "code",
   "execution_count": 33,
   "metadata": {},
   "outputs": [],
   "source": [
    "kl_list = []"
   ]
  },
  {
   "cell_type": "code",
   "execution_count": 34,
   "metadata": {},
   "outputs": [
    {
     "data": {
      "text/plain": [
       "float"
      ]
     },
     "execution_count": 34,
     "metadata": {},
     "output_type": "execute_result"
    }
   ],
   "source": [
    "type(np.nan)"
   ]
  },
  {
   "cell_type": "code",
   "execution_count": 35,
   "metadata": {},
   "outputs": [],
   "source": [
    "# #0.01 0.06 0.0 0.01\n",
    "# mean_1 = 0.01\n",
    "# mean_2 = 0.06\n",
    "# std_1 = 0.\n",
    "# std_2 = 0.01\n",
    "\n",
    "# kl = np.log(std_2 / std_1) + (std_1 ** 2 + (mean_1 - mean_2) ** 2) / (2 * std_2 ** 2) - 0.5"
   ]
  },
  {
   "cell_type": "code",
   "execution_count": 36,
   "metadata": {},
   "outputs": [],
   "source": [
    "def kl_calc(mean_1, mean_2, std_1, std_2):\n",
    "    #print(mean_1, mean_2, std_1, std_2)\n",
    "    kl = np.log(std_2 / std_1) + (std_1 ** 2 + (mean_1 - mean_2) ** 2) / (2 * std_2 ** 2) - 0.5\n",
    "    if kl != float(\"inf\") and kl != float(\"nan\"):\n",
    "        #print(kl)\n",
    "        return kl"
   ]
  },
  {
   "cell_type": "code",
   "execution_count": 37,
   "metadata": {},
   "outputs": [],
   "source": [
    "mu_1 = np.arange(0, 1, 0.01)\n",
    "mu_2 = np.arange(0, 1, 0.01)\n",
    "\n",
    "sigma_1 = np.arange(0, 0.3333, 0.01)\n",
    "sigma_2 = np.arange(0, 0.3333, 0.01)"
   ]
  },
  {
   "cell_type": "code",
   "execution_count": 38,
   "metadata": {},
   "outputs": [
    {
     "name": "stderr",
     "output_type": "stream",
     "text": [
      "/tmp/ipykernel_1631199/3695156083.py:3: RuntimeWarning: divide by zero encountered in scalar divide\n",
      "  kl = np.log(std_2 / std_1) + (std_1 ** 2 + (mean_1 - mean_2) ** 2) / (2 * std_2 ** 2) - 0.5\n"
     ]
    }
   ],
   "source": [
    "for i in mu_1:\n",
    "    for j in mu_2:\n",
    "        for k in sigma_1:\n",
    "            for l in sigma_2:\n",
    "                if ((i + 3 * k < 1) and\n",
    "                (j + 3 * l < 1) and\n",
    "                (i - 3 * k > 0) and\n",
    "                (j - 3 * l > 0) and\n",
    "                l > 0):\n",
    "                    kl = kl_calc(i, j, k, l)\n",
    "                    if kl:\n",
    "                        kl_list.append(kl_calc(i, j, k, l))"
   ]
  },
  {
   "cell_type": "code",
   "execution_count": 39,
   "metadata": {},
   "outputs": [
    {
     "data": {
      "text/plain": [
       "(array([4.40938e+05, 4.44530e+04, 2.18010e+04, 1.43160e+04, 9.61600e+03,\n",
       "        7.14800e+03, 5.67600e+03, 4.44400e+03, 3.85400e+03, 3.23600e+03,\n",
       "        2.67400e+03, 2.29600e+03, 2.45400e+03, 1.81000e+03, 1.78200e+03,\n",
       "        1.41600e+03, 1.36800e+03, 1.53200e+03, 1.22600e+03, 1.03400e+03,\n",
       "        1.12400e+03, 9.34000e+02, 8.12000e+02, 8.57000e+02, 6.13000e+02,\n",
       "        7.09000e+02, 7.73000e+02, 6.79000e+02, 6.65000e+02, 6.35000e+02,\n",
       "        5.81000e+02, 4.10000e+02, 4.27000e+02, 5.49000e+02, 5.16000e+02,\n",
       "        4.38000e+02, 1.88000e+02, 4.80000e+02, 4.22000e+02, 3.74000e+02,\n",
       "        1.46000e+02, 3.90000e+02, 3.50000e+02, 2.12000e+02, 2.38000e+02,\n",
       "        3.22000e+02, 2.06000e+02, 1.62000e+02, 2.86000e+02, 1.80000e+02,\n",
       "        1.38000e+02, 2.54000e+02, 1.80000e+01, 2.52000e+02, 1.90000e+02,\n",
       "        4.40000e+01, 2.16000e+02, 1.20000e+02, 8.00000e+01, 1.74000e+02,\n",
       "        1.00000e+01, 1.68000e+02, 7.40000e+01, 8.00000e+01, 1.30000e+02,\n",
       "        1.00000e+01, 1.26000e+02, 0.00000e+00, 1.14000e+02, 0.00000e+00,\n",
       "        1.02000e+02, 7.20000e+01, 1.80000e+01, 8.00000e+01, 0.00000e+00,\n",
       "        7.00000e+01, 0.00000e+00, 6.00000e+01, 0.00000e+00, 5.20000e+01,\n",
       "        0.00000e+00, 4.40000e+01, 0.00000e+00, 3.60000e+01, 0.00000e+00,\n",
       "        3.00000e+01, 0.00000e+00, 2.40000e+01, 0.00000e+00, 1.80000e+01,\n",
       "        0.00000e+00, 1.40000e+01, 0.00000e+00, 1.00000e+01, 0.00000e+00,\n",
       "        6.00000e+00, 0.00000e+00, 4.00000e+00, 0.00000e+00, 2.00000e+00]),\n",
       " array([1.95312500e-03, 4.23219336e+01, 8.46419141e+01, 1.26961895e+02,\n",
       "        1.69281875e+02, 2.11601855e+02, 2.53921836e+02, 2.96241816e+02,\n",
       "        3.38561797e+02, 3.80881777e+02, 4.23201758e+02, 4.65521738e+02,\n",
       "        5.07841719e+02, 5.50161699e+02, 5.92481680e+02, 6.34801660e+02,\n",
       "        6.77121641e+02, 7.19441621e+02, 7.61761602e+02, 8.04081582e+02,\n",
       "        8.46401562e+02, 8.88721543e+02, 9.31041523e+02, 9.73361504e+02,\n",
       "        1.01568148e+03, 1.05800146e+03, 1.10032145e+03, 1.14264143e+03,\n",
       "        1.18496141e+03, 1.22728139e+03, 1.26960137e+03, 1.31192135e+03,\n",
       "        1.35424133e+03, 1.39656131e+03, 1.43888129e+03, 1.48120127e+03,\n",
       "        1.52352125e+03, 1.56584123e+03, 1.60816121e+03, 1.65048119e+03,\n",
       "        1.69280117e+03, 1.73512115e+03, 1.77744113e+03, 1.81976111e+03,\n",
       "        1.86208109e+03, 1.90440107e+03, 1.94672105e+03, 1.98904104e+03,\n",
       "        2.03136102e+03, 2.07368100e+03, 2.11600098e+03, 2.15832096e+03,\n",
       "        2.20064094e+03, 2.24296092e+03, 2.28528090e+03, 2.32760088e+03,\n",
       "        2.36992086e+03, 2.41224084e+03, 2.45456082e+03, 2.49688080e+03,\n",
       "        2.53920078e+03, 2.58152076e+03, 2.62384074e+03, 2.66616072e+03,\n",
       "        2.70848070e+03, 2.75080068e+03, 2.79312066e+03, 2.83544064e+03,\n",
       "        2.87776062e+03, 2.92008061e+03, 2.96240059e+03, 3.00472057e+03,\n",
       "        3.04704055e+03, 3.08936053e+03, 3.13168051e+03, 3.17400049e+03,\n",
       "        3.21632047e+03, 3.25864045e+03, 3.30096043e+03, 3.34328041e+03,\n",
       "        3.38560039e+03, 3.42792037e+03, 3.47024035e+03, 3.51256033e+03,\n",
       "        3.55488031e+03, 3.59720029e+03, 3.63952027e+03, 3.68184025e+03,\n",
       "        3.72416023e+03, 3.76648021e+03, 3.80880020e+03, 3.85112018e+03,\n",
       "        3.89344016e+03, 3.93576014e+03, 3.97808012e+03, 4.02040010e+03,\n",
       "        4.06272008e+03, 4.10504006e+03, 4.14736004e+03, 4.18968002e+03,\n",
       "        4.23200000e+03]),\n",
       " <BarContainer object of 100 artists>)"
      ]
     },
     "execution_count": 39,
     "metadata": {},
     "output_type": "execute_result"
    },
    {
     "data": {
      "image/png": "[encoded data removed]",
      "text/plain": [
       "<Figure size 640x480 with 1 Axes>"
      ]
     },
     "metadata": {},
     "output_type": "display_data"
    }
   ],
   "source": [
    "plt.hist(kl_list, bins=100)\n",
    "#plt.yscale('log')"
   ]
  },
  {
   "cell_type": "code",
   "execution_count": 40,
   "metadata": {},
   "outputs": [
    {
     "data": {
      "text/plain": [
       "4231.999999999999"
      ]
     },
     "execution_count": 40,
     "metadata": {},
     "output_type": "execute_result"
    }
   ],
   "source": [
    "max(kl_list)"
   ]
  },
  {
   "cell_type": "code",
   "execution_count": 41,
   "metadata": {},
   "outputs": [
    {
     "data": {
      "text/plain": [
       "0.001953125"
      ]
     },
     "execution_count": 41,
     "metadata": {},
     "output_type": "execute_result"
    }
   ],
   "source": [
    "min(kl_list)"
   ]
  },
  {
   "cell_type": "code",
   "execution_count": 42,
   "metadata": {},
   "outputs": [
    {
     "data": {
      "text/plain": [
       "(array([ 95464, 495128]), array([   0,    1, 5000]))"
      ]
     },
     "execution_count": 42,
     "metadata": {},
     "output_type": "execute_result"
    }
   ],
   "source": [
    "np.histogram(kl_list, bins=[0,1, 5000])"
   ]
  },
  {
   "cell_type": "code",
   "execution_count": 43,
   "metadata": {},
   "outputs": [
    {
     "data": {
      "text/plain": [
       "0.1928067085682894"
      ]
     },
     "execution_count": 43,
     "metadata": {},
     "output_type": "execute_result"
    }
   ],
   "source": [
    "95464/495128"
   ]
  },
  {
   "cell_type": "code",
   "execution_count": 46,
   "metadata": {},
   "outputs": [
    {
     "data": {
      "text/plain": [
       "list"
      ]
     },
     "execution_count": 46,
     "metadata": {},
     "output_type": "execute_result"
    }
   ],
   "source": [
    "type(kl_list)"
   ]
  },
  {
   "cell_type": "code",
   "execution_count": 47,
   "metadata": {},
   "outputs": [],
   "source": [
    "kl_list_sorted = sorted(kl_list)"
   ]
  },
  {
   "cell_type": "code",
   "execution_count": 48,
   "metadata": {},
   "outputs": [
    {
     "data": {
      "text/plain": [
       "[0.001953125,\n",
       " 0.001953125,\n",
       " 0.001953125,\n",
       " 0.001953125,\n",
       " 0.0022222222222222365,\n",
       " 0.0022222222222222365,\n",
       " 0.0022222222222222365,\n",
       " 0.0022222222222222365,\n",
       " 0.0022222222222222365,\n",
       " 0.0022222222222222365]"
      ]
     },
     "execution_count": 48,
     "metadata": {},
     "output_type": "execute_result"
    }
   ],
   "source": [
    "kl_list_sorted[0:10]"
   ]
  },
  {
   "cell_type": "code",
   "execution_count": 49,
   "metadata": {},
   "outputs": [
    {
     "data": {
      "text/plain": [
       "24756.4"
      ]
     },
     "execution_count": 49,
     "metadata": {},
     "output_type": "execute_result"
    }
   ],
   "source": [
    "495128 * 0.05"
   ]
  },
  {
   "cell_type": "code",
   "execution_count": 51,
   "metadata": {},
   "outputs": [
    {
     "data": {
      "text/plain": [
       "0.1999722485358737"
      ]
     },
     "execution_count": 51,
     "metadata": {},
     "output_type": "execute_result"
    }
   ],
   "source": [
    "max(kl_list_sorted[0:24756])"
   ]
  },
  {
   "cell_type": "code",
   "execution_count": 52,
   "metadata": {},
   "outputs": [
    {
     "data": {
      "text/plain": [
       "0.038400265878518636"
      ]
     },
     "execution_count": 52,
     "metadata": {},
     "output_type": "execute_result"
    }
   ],
   "source": [
    "max(kl_list_sorted[0:int(495128*0.01)])"
   ]
  },
  {
   "cell_type": "code",
   "execution_count": null,
   "metadata": {},
   "outputs": [],
   "source": []
  }
 ],
 "metadata": {
  "kernelspec": {
   "display_name": "Python 3",
   "language": "python",
   "name": "python3"
  },
  "language_info": {
   "codemirror_mode": {
    "name": "ipython",
    "version": 3
   },
   "file_extension": ".py",
   "mimetype": "text/x-python",
   "name": "python",
   "nbconvert_exporter": "python",
   "pygments_lexer": "ipython3",
   "version": "3.10.11"
  }
 },
 "nbformat": 4,
 "nbformat_minor": 2
}

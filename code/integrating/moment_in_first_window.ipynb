{
 "cells": [
  {
   "cell_type": "code",
   "execution_count": 1,
   "metadata": {},
   "outputs": [],
   "source": [
    "import numpy as np\n",
    "import matplotlib.pyplot as plt\n",
    "import scipy\n",
    "import scipy.stats as stats\n",
    "import pickle\n",
    "import obspy\n",
    "from scipy.signal import find_peaks\n",
    "import os\n",
    "import pandas as pd\n",
    "\n",
    "import cmcrameri.cm as cmc\n",
    "\n",
    "from matplotlib import patches\n"
   ]
  },
  {
   "cell_type": "code",
   "execution_count": 2,
   "metadata": {},
   "outputs": [],
   "source": [
    "combined = pd.read_csv('/home/earthquakes1/homes/Rebecca/phd/stf/data/combined.csv')"
   ]
  },
  {
   "cell_type": "code",
   "execution_count": 3,
   "metadata": {},
   "outputs": [],
   "source": [
    "def moment_in_different_windows(window = None, window_prop = None):\n",
    "    if window is None and window_prop is None:\n",
    "        window_prop = 1\n",
    "\n",
    "    diff = []\n",
    "    moments = []\n",
    "\n",
    "    romb = []\n",
    "    simpson = []\n",
    "    trapz = []\n",
    "\n",
    "    simpson_short = []\n",
    "\n",
    "    durations = []\n",
    "\n",
    "    for scardec_name in os.listdir('/home/earthquakes1/homes/Rebecca/phd/stf/data/scardec'):\n",
    "        db = combined[combined['scardec_name']==scardec_name]\n",
    "\n",
    "        time_opt = []\n",
    "        momentrate_opt = []\n",
    "\n",
    "        time_moy = []\n",
    "        momentrate_moy = []\n",
    "\n",
    "        event = os.listdir(f'/home/earthquakes1/homes/Rebecca/phd/stf/data/scardec/{scardec_name}')\n",
    "        starts = [n for n, l in enumerate(event) if l.startswith('fctopt')]\n",
    "        with open(f'/home/earthquakes1/homes/Rebecca/phd/stf/data/scardec/{scardec_name}/{event[starts[0]]}') as f:\n",
    "            lines = f.read().splitlines()\n",
    "\n",
    "        lines = lines[2:]\n",
    "        for line in lines:\n",
    "            split = line.split(' ')\n",
    "            split = [s for s in split if s not in ['', ' ', '\\n']]\n",
    "            time_opt.append(float(split[0]))\n",
    "            momentrate_opt.append(float(split[1]))\n",
    "\n",
    "        momentrate_opt = np.array(momentrate_opt)\n",
    "\n",
    "        not_zero = np.where(momentrate_opt > 0)[0]\n",
    "\n",
    "        start = min(not_zero)\n",
    "        end = max(not_zero)\n",
    "        duration = time_opt[end] - time_opt[start]\n",
    "        durations.append(duration)\n",
    "\n",
    "        simpson.append(scipy.integrate.simpson(momentrate_opt[start:end], dx = time_opt[1]-time_opt[0]))\n",
    "        trapz.append(scipy.integrate.trapezoid(momentrate_opt, dx = time_opt[1]-time_opt[0]))\n",
    "        moments.append(db['moment'].values[0])\n",
    "\n",
    "        if window_prop is None: #using static time window\n",
    "            end_window = int((end-start)*(window/duration))\n",
    "        else: #based on proportion of duration\n",
    "            end_window = int((end-start)*window_prop)\n",
    "\n",
    "        simpson_short.append(scipy.integrate.simpson(momentrate_opt[start:start + end_window], dx = time_opt[1]-time_opt[0]))\n",
    "    return moments, simpson, simpson_short, trapz, durations"
   ]
  },
  {
   "cell_type": "code",
   "execution_count": 4,
   "metadata": {},
   "outputs": [],
   "source": [
    "def get_stf(scardec_name, wanted_type = 'fctopt'):\n",
    "    db = combined[combined['scardec_name']==scardec_name]\n",
    "\n",
    "    time = []\n",
    "    momentrate = []\n",
    "\n",
    "    event = os.listdir(f'/home/earthquakes1/homes/Rebecca/phd/stf/data/scardec/{scardec_name}')\n",
    "    starts = [n for n, l in enumerate(event) if l.startswith(wanted_type)]\n",
    "    with open(f'/home/earthquakes1/homes/Rebecca/phd/stf/data/scardec/{scardec_name}/{event[starts[0]]}') as f:\n",
    "        lines = f.read().splitlines()\n",
    "\n",
    "    lines = lines[2:]\n",
    "    for line in lines:\n",
    "        split = line.split(' ')\n",
    "        split = [s for s in split if s not in ['', ' ', '\\n']]\n",
    "        time.append(float(split[0]))\n",
    "        momentrate.append(float(split[1]))\n",
    "\n",
    "    momentrate = np.array(momentrate)\n",
    "    return momentrate, time, db"
   ]
  },
  {
   "cell_type": "code",
   "execution_count": 267,
   "metadata": {},
   "outputs": [],
   "source": [
    "# looks for time value of root\n",
    "def f3(end_time, total_moment, time_opt, momentrate_opt, start, points_before_zero, proportion = 0.1):\n",
    "    dx = time_opt[1]-time_opt[0]\n",
    "    end_window = (end_time/dx)+points_before_zero\n",
    "    end = int(np.floor(end_window))\n",
    "    short = scipy.integrate.simpson(momentrate_opt[start:end], dx = dx)\n",
    "    return short-(total_moment*proportion)"
   ]
  },
  {
   "cell_type": "code",
   "execution_count": 322,
   "metadata": {},
   "outputs": [],
   "source": [
    "def plot_scatter_figures(proportion, root_times, moments, durations):\n",
    "    root_times = np.array(root_times)\n",
    "    moments = np.array(moments)\n",
    "    durations = np.array(durations)\n",
    "\n",
    "    plt.scatter(root_times, durations, c = np.log10(moments), cmap = cmc.batlow, alpha = 0.5)\n",
    "    plt.ylabel('Duration (s)')\n",
    "    plt.xlabel(f'time to release {proportion*100}% of moment (s)')\n",
    "    plt.colorbar(label = 'log10(moment)')\n",
    "    plt.savefig(f'/home/earthquakes1/homes/Rebecca/phd/stf/figures/moment_intervals/time_for_{proportion*100}_percent_moment_against_duration.png')\n",
    "    plt.close()\n",
    "\n",
    "    plt.scatter(root_times, np.log10(moments), c = durations, cmap = cmc.batlow, alpha = 0.5)\n",
    "    plt.ylabel('log10(moment)')\n",
    "    plt.xlabel(f'time to release {proportion*100}% of moment (s)')\n",
    "    plt.colorbar(label = 'Duration (s)')\n",
    "    plt.savefig(f'/home/earthquakes1/homes/Rebecca/phd/stf/figures/moment_intervals/time_for_{proportion*100}_percent_moment_against_moment.png')\n",
    "    plt.close()\n",
    "\n",
    "    plt.scatter(root_times/durations, np.log10(moments), c = durations, cmap = cmc.batlow, alpha = 0.5)\n",
    "    plt.ylabel('log10(moment)')\n",
    "    plt.xlabel(f'proportion of duration to release {proportion*100}% of moment')\n",
    "    plt.colorbar()\n",
    "    plt.xlim(0, 1)\n",
    "    plt.savefig(f'/home/earthquakes1/homes/Rebecca/phd/stf/figures/moment_intervals/fraction_of_duration_for_{proportion*100}_percent_moment_against_moment.png')\n",
    "    plt.close()"
   ]
  },
  {
   "cell_type": "code",
   "execution_count": 323,
   "metadata": {},
   "outputs": [],
   "source": [
    "def plot_hist_figures(proportion, root_times, durations):\n",
    "    root_times = np.array(root_times)\n",
    "    durations = np.array(durations)\n",
    "\n",
    "    plt.hist(root_times/durations, bins = 100)\n",
    "\n",
    "    plt.ylabel('Frequency')\n",
    "    plt.xlabel(f'proportion of duration to release {proportion*100}% of moment')\n",
    "    plt.xlim(0, 1)\n",
    "    plt.savefig(f'/home/earthquakes1/homes/Rebecca/phd/stf/figures/moment_intervals/histogram_fraction_of_duration_for_{proportion*100}_percent_moment.png')\n",
    "    plt.close()"
   ]
  },
  {
   "cell_type": "code",
   "execution_count": 324,
   "metadata": {},
   "outputs": [],
   "source": [
    "def plot_hist_figures_all(proportions_list, all_root_times, all_durations):\n",
    "    for root_times, durations, proportion in zip(all_root_times, all_durations, proportions_list):\n",
    "        root_times = np.array(root_times)\n",
    "        durations = np.array(durations)\n",
    "\n",
    "        plt.hist(root_times/durations, bins = 100, label = proportion, alpha = 0.5)\n",
    "\n",
    "        plt.ylabel('Frequency')\n",
    "        plt.xlabel(f'proportion of duration to release proportion of moment')\n",
    "\n",
    "        plt.legend()\n",
    "        plt.xlim(0, 1)\n",
    "\n",
    "    plt.savefig(f'/home/earthquakes1/homes/Rebecca/phd/stf/figures/moment_intervals/combined_histogram_fraction_of_duration_for_percent_moment.png')\n",
    "    plt.close()"
   ]
  },
  {
   "cell_type": "code",
   "execution_count": 325,
   "metadata": {},
   "outputs": [
    {
     "name": "stdout",
     "output_type": "stream",
     "text": [
      "0.1\n",
      "0.3\n",
      "0.5\n"
     ]
    }
   ],
   "source": [
    "proportions_list = [0.1, 0.3, 0.5]\n",
    "\n",
    "all_durations = []\n",
    "all_root_times = []\n",
    "all_moments = []\n",
    "all_relative_root_times = []\n",
    "\n",
    "for proportion in proportions_list:\n",
    "    print(proportion)\n",
    "    durations = []\n",
    "    root_times = []\n",
    "    relative_root_times = []\n",
    "\n",
    "    diff = []\n",
    "    moments = []\n",
    "\n",
    "    for scardec_name in os.listdir('/home/earthquakes1/homes/Rebecca/phd/stf/data/scardec'):\n",
    "        #print(scardec_name)\n",
    "        momentrate_opt, time_opt, db = get_stf(scardec_name)\n",
    "\n",
    "        not_zero = np.where(momentrate_opt > 0)[0]\n",
    "\n",
    "        dx = time_opt[1]-time_opt[0]\n",
    "\n",
    "        start = min(not_zero)\n",
    "        end = max(not_zero)\n",
    "        points_before_zero = abs(min(time_opt)/dx)\n",
    "\n",
    "        duration = time_opt[end] - time_opt[start]\n",
    "        durations.append(duration)\n",
    "\n",
    "        start_time = time_opt[start]\n",
    "        end_time = time_opt[end]\n",
    "\n",
    "        total_moment = scipy.integrate.simpson(momentrate_opt[start:end], dx = time_opt[1]-time_opt[0])\n",
    "        moments.append(total_moment)\n",
    "        root, r = scipy.optimize.bisect(f3,\n",
    "                                        start_time+dx,\n",
    "                                        end_time,\n",
    "                                        rtol = 1e-6,\n",
    "                                        full_output = True,\n",
    "                                        args = (total_moment,\n",
    "                                                time_opt,\n",
    "                                                momentrate_opt,\n",
    "                                                start,\n",
    "                                                points_before_zero,\n",
    "                                                proportion,))\n",
    "        root_idx = np.floor(root/dx)\n",
    "        root_time = root_idx*dx\n",
    "        root_times.append(root_time)\n",
    "        relative_root_times.append(root_time-start_time)\n",
    "\n",
    "        if root_time-start_time > duration:\n",
    "            print('root time greater than duration, proportion:', proportion)\n",
    "            print(scardec_name)\n",
    "\n",
    "    plot_scatter_figures(proportion, relative_root_times, moments, durations)\n",
    "    plot_hist_figures(proportion, relative_root_times, durations)\n",
    "\n",
    "    all_durations.append(durations)\n",
    "    all_root_times.append(root_times)\n",
    "    all_moments.append(moments)\n",
    "    all_relative_root_times.append(relative_root_times)\n",
    "\n",
    "plot_hist_figures_all(proportions_list, all_relative_root_times, all_durations)"
   ]
  },
  {
   "cell_type": "code",
   "execution_count": 312,
   "metadata": {},
   "outputs": [
    {
     "name": "stdout",
     "output_type": "stream",
     "text": [
      "2187\n"
     ]
    }
   ],
   "source": [
    "count = 0\n",
    "for scardec_name in os.listdir('/home/earthquakes1/homes/Rebecca/phd/stf/data/scardec'):\n",
    "    if scardec_name == 'FCTs_20220405_014408_NORTHERN_MOLUCCA_SEA':\n",
    "        print(count)\n",
    "    count += 1"
   ]
  },
  {
   "cell_type": "code",
   "execution_count": 313,
   "metadata": {},
   "outputs": [
    {
     "data": {
      "text/plain": [
       "'FCTs_20220405_014408_NORTHERN_MOLUCCA_SEA'"
      ]
     },
     "execution_count": 313,
     "metadata": {},
     "output_type": "execute_result"
    }
   ],
   "source": [
    "os.listdir('/home/earthquakes1/homes/Rebecca/phd/stf/data/scardec')[2187]"
   ]
  },
  {
   "cell_type": "code",
   "execution_count": 318,
   "metadata": {},
   "outputs": [
    {
     "name": "stdout",
     "output_type": "stream",
     "text": [
      "0.5\n"
     ]
    }
   ],
   "source": [
    "proportion = 0.5\n",
    "print(proportion)\n",
    "durations = []\n",
    "root_times = []\n",
    "relative_root_time = []\n",
    "\n",
    "diff = []\n",
    "moments = []\n",
    "\n",
    "scardec_name = os.listdir('/home/earthquakes1/homes/Rebecca/phd/stf/data/scardec')[2187]\n",
    "#print(scardec_name)\n",
    "momentrate_opt, time_opt, db = get_stf(scardec_name)\n",
    "\n",
    "not_zero = np.where(momentrate_opt > 0)[0]\n",
    "\n",
    "dx = time_opt[1]-time_opt[0]\n",
    "\n",
    "start = min(not_zero)\n",
    "end = max(not_zero)\n",
    "points_before_zero = abs(min(time_opt)/dx)\n",
    "\n",
    "duration = time_opt[end] - time_opt[start]\n",
    "durations.append(duration)\n",
    "\n",
    "start_time = time_opt[start]\n",
    "end_time = time_opt[end]\n",
    "\n",
    "total_moment = scipy.integrate.simpson(momentrate_opt[start:end], dx = time_opt[1]-time_opt[0])\n",
    "moments.append(total_moment)\n",
    "root, r = scipy.optimize.bisect(f3,\n",
    "                                start_time+dx,\n",
    "                                end_time,\n",
    "                                rtol = 1e-6,\n",
    "                                full_output = True,\n",
    "                                args = (total_moment,\n",
    "                                        time_opt,\n",
    "                                        momentrate_opt,\n",
    "                                        start,\n",
    "                                        points_before_zero,\n",
    "                                        proportion,))\n",
    "root_idx = np.floor(root/dx)\n",
    "root_time = root_idx*dx\n",
    "root_times.append(root_time)\n",
    "relative_root_time.append(root_time - start_time)\n",
    "\n",
    "if root_time-start_time > duration:\n",
    "    print('root time greater than duration, proportion:', proportion)\n",
    "    print(scardec_name)\n"
   ]
  },
  {
   "cell_type": "code",
   "execution_count": 319,
   "metadata": {},
   "outputs": [
    {
     "data": {
      "text/plain": [
       "<matplotlib.lines.Line2D at 0x7f6ddba108b0>"
      ]
     },
     "execution_count": 319,
     "metadata": {},
     "output_type": "execute_result"
    },
    {
     "data": {
      "image/png": "[encoded data removed]",
      "text/plain": [
       "<Figure size 640x480 with 1 Axes>"
      ]
     },
     "metadata": {},
     "output_type": "display_data"
    }
   ],
   "source": [
    "plt.plot(time_opt, momentrate_opt)\n",
    "plt.axvline(x = root_time, color = 'red')\n",
    "plt.axvline(x = time_opt[end], color = 'green')\n",
    "plt.axvline(x = time_opt[start], color = 'green')"
   ]
  },
  {
   "cell_type": "code",
   "execution_count": null,
   "metadata": {},
   "outputs": [],
   "source": []
  }
 ],
 "metadata": {
  "kernelspec": {
   "display_name": "rlc5",
   "language": "python",
   "name": "python3"
  },
  "language_info": {
   "codemirror_mode": {
    "name": "ipython",
    "version": 3
   },
   "file_extension": ".py",
   "mimetype": "text/x-python",
   "name": "python",
   "nbconvert_exporter": "python",
   "pygments_lexer": "ipython3",
   "version": "3.10.11"
  }
 },
 "nbformat": 4,
 "nbformat_minor": 2
}

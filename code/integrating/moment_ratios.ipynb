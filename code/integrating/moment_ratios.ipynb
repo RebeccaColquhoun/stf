{
 "cells": [
  {
   "cell_type": "code",
   "execution_count": 1,
   "metadata": {},
   "outputs": [],
   "source": [
    "import os\n",
    "\n",
    "import matplotlib.pyplot as plt\n",
    "import numpy as np\n",
    "import pandas as pd\n",
    "import scipy\n",
    "\n"
   ]
  },
  {
   "cell_type": "code",
   "execution_count": 2,
   "metadata": {},
   "outputs": [],
   "source": [
    "def myround(x, base=5):\n",
    "    return base * round(x/base)"
   ]
  },
  {
   "cell_type": "code",
   "execution_count": 3,
   "metadata": {},
   "outputs": [],
   "source": [
    "combined = pd.read_csv('/home/earthquakes1/homes/Rebecca/phd/stf/data/combined.csv')"
   ]
  },
  {
   "cell_type": "code",
   "execution_count": 4,
   "metadata": {},
   "outputs": [],
   "source": [
    "def get_stf(scardec_name, wanted_type = 'fctopt'):\n",
    "    db = combined[combined['scardec_name']==scardec_name]\n",
    "\n",
    "    time = []\n",
    "    momentrate = []\n",
    "\n",
    "    event = os.listdir(f'/home/earthquakes1/homes/Rebecca/phd/stf/data/scardec/{scardec_name}')\n",
    "    starts = [n for n, l in enumerate(event) if l.startswith(wanted_type)]\n",
    "    with open(f'/home/earthquakes1/homes/Rebecca/phd/stf/data/scardec/{scardec_name}/{event[starts[0]]}') as f:\n",
    "        lines = f.read().splitlines()\n",
    "\n",
    "    lines = lines[2:]\n",
    "    for line in lines:\n",
    "        split = line.split(' ')\n",
    "        split = [s for s in split if s not in ['', ' ', '\\n']]\n",
    "        time.append(float(split[0]))\n",
    "        momentrate.append(float(split[1]))\n",
    "\n",
    "    momentrate = np.array(momentrate)\n",
    "    return momentrate, time, db"
   ]
  },
  {
   "cell_type": "code",
   "execution_count": 5,
   "metadata": {},
   "outputs": [],
   "source": [
    "# looks for time value of root\n",
    "def f3(end_time, total_moment, time_opt, momentrate_opt, start, points_before_zero, proportion = 0.1):\n",
    "    dx = time_opt[1]-time_opt[0]\n",
    "    end_window = (end_time/dx)+points_before_zero\n",
    "    end = int(np.floor(end_window))\n",
    "    if start == end:\n",
    "        end += 1\n",
    "    short = scipy.integrate.simpson(momentrate_opt[start:end], dx = dx)\n",
    "    return short-(total_moment*proportion)"
   ]
  },
  {
   "cell_type": "code",
   "execution_count": 6,
   "metadata": {},
   "outputs": [],
   "source": [
    "durations = []\n",
    "moments = []\n",
    "root_times_10 = []\n",
    "relative_root_times_10 = []\n",
    "root_times_90 = []\n",
    "relative_root_times_90 = []\n",
    "root_times_100 = []\n",
    "relative_root_times_100 = []\n",
    "\n",
    "for scardec_name in os.listdir('/home/earthquakes1/homes/Rebecca/phd/stf/data/scardec'):\n",
    "    #print(scardec_name)\n",
    "    momentrate_opt, time_opt, db = get_stf(scardec_name, wanted_type='fctmoy')\n",
    "\n",
    "    not_zero = np.where(momentrate_opt > 0)[0]\n",
    "\n",
    "    dx = time_opt[1]-time_opt[0]\n",
    "\n",
    "    start = min(not_zero)\n",
    "    end = max(not_zero)\n",
    "    points_before_zero = abs(min(time_opt)/dx)\n",
    "\n",
    "    duration = time_opt[end] - time_opt[start]\n",
    "    durations.append(duration)\n",
    "\n",
    "    start_time = time_opt[start]\n",
    "    end_time = time_opt[end]\n",
    "\n",
    "    total_moment = scipy.integrate.simpson(momentrate_opt[start:end], dx = time_opt[1]-time_opt[0])\n",
    "    moments.append(total_moment)\n",
    "    root_10, r = scipy.optimize.bisect(f3,\n",
    "                                    start_time+dx,\n",
    "                                    end_time,\n",
    "                                    rtol = 1e-6,\n",
    "                                    full_output = True,\n",
    "                                    args = (total_moment,\n",
    "                                            time_opt,\n",
    "                                            momentrate_opt,\n",
    "                                            start,\n",
    "                                            points_before_zero,\n",
    "                                            0.1,))\n",
    "    root_idx_10 = np.floor(root_10/dx)\n",
    "    root_time_10 = root_idx_10*dx\n",
    "    root_times_10.append(root_time_10)\n",
    "    relative_root_times_10.append(root_time_10-start_time)\n",
    "\n",
    "    root_90, r = scipy.optimize.bisect(f3,\n",
    "                                    start_time+dx,\n",
    "                                    end_time,\n",
    "                                    rtol = 1e-6,\n",
    "                                    full_output = True,\n",
    "                                    args = (total_moment,\n",
    "                                            time_opt,\n",
    "                                            momentrate_opt,\n",
    "                                            start,\n",
    "                                            points_before_zero,\n",
    "                                            0.9,))\n",
    "    root_idx_90 = np.floor(root_90/dx)\n",
    "    root_time_90 = root_idx_90*dx\n",
    "    root_times_90.append(root_time_90)\n",
    "    relative_root_times_90.append(root_time_90-start_time)\n",
    "\n",
    "    if (root_time_90-start_time)/duration > 1:\n",
    "        print(scardec_name)\n",
    "        print(root_time_90)\n",
    "        print(start_time)\n",
    "        print(duration)\n",
    "        print((root_time_90-start_time)/duration)\n",
    "\n",
    "root_times_10 = np.array(root_times_10)\n",
    "durations = np.array(durations)\n",
    "moments = np.log10(np.array(moments))\n",
    "\n",
    "rel_root_times_10 = relative_root_times_10/durations\n",
    "\n",
    "root_times_90 = np.array(root_times_90)\n",
    "\n",
    "rel_root_times_90 = relative_root_times_90/durations\n",
    "\n",
    "\n"
   ]
  },
  {
   "cell_type": "code",
   "execution_count": 7,
   "metadata": {},
   "outputs": [],
   "source": [
    "rel_root_times_90[rel_root_times_90>1] = 1"
   ]
  },
  {
   "cell_type": "code",
   "execution_count": 8,
   "metadata": {},
   "outputs": [
    {
     "data": {
      "text/plain": [
       "(array([  1.,   5.,  15.,  24.,  48., 110., 147., 199., 286., 335., 413.,\n",
       "        410., 419., 388., 374., 291., 260., 190., 139.,  35.]),\n",
       " array([0.26457399, 0.29936116, 0.33414834, 0.36893551, 0.40372268,\n",
       "        0.43850986, 0.47329703, 0.50808421, 0.54287138, 0.57765855,\n",
       "        0.61244573, 0.6472329 , 0.68202007, 0.71680725, 0.75159442,\n",
       "        0.78638159, 0.82116877, 0.85595594, 0.89074311, 0.92553029,\n",
       "        0.96031746]),\n",
       " <BarContainer object of 20 artists>)"
      ]
     },
     "execution_count": 8,
     "metadata": {},
     "output_type": "execute_result"
    },
    {
     "data": {
      "image/png": "[encoded data removed]",
      "text/plain": [
       "<Figure size 640x480 with 1 Axes>"
      ]
     },
     "metadata": {},
     "output_type": "display_data"
    }
   ],
   "source": [
    "plt.hist(rel_root_times_10, bins = 20, alpha = 0.5)\n",
    "plt.hist(rel_root_times_90, bins = 20, alpha = 0.5)\n"
   ]
  },
  {
   "cell_type": "code",
   "execution_count": 9,
   "metadata": {},
   "outputs": [
    {
     "data": {
      "text/plain": [
       "0.9603174603174603"
      ]
     },
     "execution_count": 9,
     "metadata": {},
     "output_type": "execute_result"
    }
   ],
   "source": [
    "max(rel_root_times_90)"
   ]
  },
  {
   "cell_type": "code",
   "execution_count": 10,
   "metadata": {},
   "outputs": [],
   "source": [
    "relative_root_times_90 = np.array(relative_root_times_90)\n",
    "relative_root_times_10 = np.array(relative_root_times_10)"
   ]
  },
  {
   "cell_type": "code",
   "execution_count": 11,
   "metadata": {},
   "outputs": [
    {
     "name": "stdout",
     "output_type": "stream",
     "text": [
      "0.2109375 61.3124995\n"
     ]
    }
   ],
   "source": [
    "last_10 = (durations-relative_root_times_90)\n",
    "print(min(last_10), max(last_10))\n",
    "\n",
    "last_10[last_10 < 0] = 0\n",
    "\n",
    "ratio = relative_root_times_10/last_10"
   ]
  },
  {
   "cell_type": "code",
   "execution_count": 12,
   "metadata": {},
   "outputs": [
    {
     "name": "stdout",
     "output_type": "stream",
     "text": [
      "[2.25       0.90540541 0.14814815 ... 0.51923076 0.73809524 1.66666667]\n"
     ]
    }
   ],
   "source": [
    "finite_ratio = ratio[np.isfinite(ratio)]\n",
    "finite_moments = moments[np.isfinite(ratio)]\n",
    "finite_duration = durations[np.isfinite(ratio)]\n",
    "print(finite_ratio)"
   ]
  },
  {
   "cell_type": "code",
   "execution_count": 13,
   "metadata": {},
   "outputs": [
    {
     "name": "stdout",
     "output_type": "stream",
     "text": [
      "[ 6.64285714  6.68181818  7.         10.6        10.75      ]\n"
     ]
    }
   ],
   "source": [
    "print(np.sort(finite_ratio)[-5:])"
   ]
  },
  {
   "cell_type": "code",
   "execution_count": 14,
   "metadata": {},
   "outputs": [
    {
     "data": {
      "text/plain": [
       "Text(0.5, 0, 'Ratio of 10% to 90%')"
      ]
     },
     "execution_count": 14,
     "metadata": {},
     "output_type": "execute_result"
    },
    {
     "data": {
      "image/png": "[encoded data removed]",
      "text/plain": [
       "<Figure size 640x480 with 1 Axes>"
      ]
     },
     "metadata": {},
     "output_type": "display_data"
    }
   ],
   "source": [
    "plt.hist(finite_ratio, bins = np.arange(0, 35, 0.1))\n",
    "plt.ylabel('Number of events')\n",
    "plt.xlabel('Ratio of 10% to 90%')"
   ]
  },
  {
   "cell_type": "code",
   "execution_count": 15,
   "metadata": {},
   "outputs": [
    {
     "data": {
      "text/plain": [
       "(0.0, 35.0)"
      ]
     },
     "execution_count": 15,
     "metadata": {},
     "output_type": "execute_result"
    },
    {
     "data": {
      "image/png": "[encoded data removed]",
      "text/plain": [
       "<Figure size 640x480 with 1 Axes>"
      ]
     },
     "metadata": {},
     "output_type": "display_data"
    }
   ],
   "source": [
    "plt.scatter(finite_ratio, finite_moments)\n",
    "plt.xlim(0, 35)"
   ]
  },
  {
   "cell_type": "code",
   "execution_count": 16,
   "metadata": {},
   "outputs": [
    {
     "ename": "NameError",
     "evalue": "name 'cmc' is not defined",
     "output_type": "error",
     "traceback": [
      "\u001b[0;31m---------------------------------------------------------------------------\u001b[0m",
      "\u001b[0;31mNameError\u001b[0m                                 Traceback (most recent call last)",
      "Cell \u001b[0;32mIn[16], line 17\u001b[0m\n\u001b[1;32m     14\u001b[0m df \u001b[38;5;241m=\u001b[39m pd\u001b[38;5;241m.\u001b[39mconcat([pd\u001b[38;5;241m.\u001b[39mDataFrame(a, columns\u001b[38;5;241m=\u001b[39m[\u001b[38;5;124mf\u001b[39m\u001b[38;5;124m'\u001b[39m\u001b[38;5;132;01m{\u001b[39;00mi\u001b[38;5;132;01m}\u001b[39;00m\u001b[38;5;124m, log10(M0) in range [\u001b[39m\u001b[38;5;132;01m{\u001b[39;00mi\u001b[38;5;241m+\u001b[39m\u001b[38;5;241m17\u001b[39m\u001b[38;5;132;01m}\u001b[39;00m\u001b[38;5;124m, \u001b[39m\u001b[38;5;132;01m{\u001b[39;00mi\u001b[38;5;241m+\u001b[39m\u001b[38;5;241m18\u001b[39m\u001b[38;5;132;01m}\u001b[39;00m\u001b[38;5;124m]\u001b[39m\u001b[38;5;124m'\u001b[39m]) \u001b[38;5;28;01mfor\u001b[39;00m i, a \u001b[38;5;129;01min\u001b[39;00m \u001b[38;5;28menumerate\u001b[39m([t_18, t_18_19, t_19_20, t_20_21, t_21_22, t_22])], axis\u001b[38;5;241m=\u001b[39m\u001b[38;5;241m1\u001b[39m)\n\u001b[1;32m     15\u001b[0m df\u001b[38;5;241m.\u001b[39mcolumns \u001b[38;5;241m=\u001b[39m columns\n\u001b[0;32m---> 17\u001b[0m df\u001b[38;5;241m.\u001b[39mplot\u001b[38;5;241m.\u001b[39mhist(stacked\u001b[38;5;241m=\u001b[39m\u001b[38;5;28;01mTrue\u001b[39;00m, bins\u001b[38;5;241m=\u001b[39mnp\u001b[38;5;241m.\u001b[39marange(\u001b[38;5;241m0\u001b[39m, \u001b[38;5;241m10\u001b[39m, \u001b[38;5;241m0.1\u001b[39m), density\u001b[38;5;241m=\u001b[39m\u001b[38;5;28;01mTrue\u001b[39;00m, figsize\u001b[38;5;241m=\u001b[39m(\u001b[38;5;241m10\u001b[39m, \u001b[38;5;241m6\u001b[39m), grid\u001b[38;5;241m=\u001b[39m\u001b[38;5;28;01mTrue\u001b[39;00m, colormap \u001b[38;5;241m=\u001b[39m \u001b[43mcmc\u001b[49m\u001b[38;5;241m.\u001b[39mlajolla)\n\u001b[1;32m     19\u001b[0m plt\u001b[38;5;241m.\u001b[39mylabel(\u001b[38;5;124m'\u001b[39m\u001b[38;5;124mFrequency\u001b[39m\u001b[38;5;124m'\u001b[39m)\n\u001b[1;32m     20\u001b[0m plt\u001b[38;5;241m.\u001b[39mxlabel(\u001b[38;5;124m'\u001b[39m\u001b[38;5;124mRatio of time to release first 10\u001b[39m\u001b[38;5;132;01m% o\u001b[39;00m\u001b[38;5;124mf moment to last 10\u001b[39m\u001b[38;5;132;01m% o\u001b[39;00m\u001b[38;5;124mf moment\u001b[39m\u001b[38;5;124m'\u001b[39m)\n",
      "\u001b[0;31mNameError\u001b[0m: name 'cmc' is not defined"
     ]
    }
   ],
   "source": [
    "t_18 = finite_ratio[np.where((finite_moments < 18))[0]]\n",
    "t_18_19 = finite_ratio[np.where((finite_moments > 18) & (finite_moments < 19))[0]]\n",
    "t_19_20 = finite_ratio[np.where((finite_moments > 19) & (finite_moments < 20))[0]]\n",
    "t_20_21 = finite_ratio[np.where((finite_moments > 20) & (finite_moments < 21))[0]]\n",
    "t_21_22 = finite_ratio[np.where((finite_moments > 21) & (finite_moments < 22))[0]]\n",
    "t_22 = finite_ratio[np.where((finite_moments > 22))[0]]\n",
    "\n",
    "columns = ['log10(M0) < 18',\n",
    "            'log10(M0) in range [18, 19]',\n",
    "            'log10(M0) in range [19, 20]',\n",
    "            'log10(M0) in range [20, 21]',\n",
    "            'log10(M0) in range [21, 22]',\n",
    "            'log10(M0) > 22']\n",
    "df = pd.concat([pd.DataFrame(a, columns=[f'{i}, log10(M0) in range [{i+17}, {i+18}]']) for i, a in enumerate([t_18, t_18_19, t_19_20, t_20_21, t_21_22, t_22])], axis=1)\n",
    "df.columns = columns\n",
    "\n",
    "df.plot.hist(stacked=True, bins=np.arange(0, 10, 0.1), density=True, figsize=(10, 6), grid=True, colormap = cmc.lajolla)\n",
    "\n",
    "plt.ylabel('Frequency')\n",
    "plt.xlabel('Ratio of time to release first 10% of moment to last 10% of moment')\n",
    "#plt.xlim(0, 1)"
   ]
  },
  {
   "cell_type": "code",
   "execution_count": null,
   "metadata": {},
   "outputs": [
    {
     "data": {
      "text/plain": [
       "-72.99999999999962"
      ]
     },
     "execution_count": 31,
     "metadata": {},
     "output_type": "execute_result"
    }
   ],
   "source": [
    "min(ratio)"
   ]
  },
  {
   "cell_type": "code",
   "execution_count": null,
   "metadata": {},
   "outputs": [
    {
     "data": {
      "text/plain": [
       "inf"
      ]
     },
     "execution_count": 32,
     "metadata": {},
     "output_type": "execute_result"
    }
   ],
   "source": [
    "max(ratio)"
   ]
  },
  {
   "cell_type": "code",
   "execution_count": null,
   "metadata": {},
   "outputs": [],
   "source": []
  }
 ],
 "metadata": {
  "kernelspec": {
   "display_name": "Python 3",
   "language": "python",
   "name": "python3"
  },
  "language_info": {
   "codemirror_mode": {
    "name": "ipython",
    "version": 3
   },
   "file_extension": ".py",
   "mimetype": "text/x-python",
   "name": "python",
   "nbconvert_exporter": "python",
   "pygments_lexer": "ipython3",
   "version": "3.10.11"
  }
 },
 "nbformat": 4,
 "nbformat_minor": 2
}

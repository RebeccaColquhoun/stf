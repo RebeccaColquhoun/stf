{
 "cells": [
  {
   "cell_type": "markdown",
   "metadata": {},
   "source": [
    "logit is just the inverse of logistic"
   ]
  },
  {
   "cell_type": "code",
   "execution_count": null,
   "metadata": {},
   "outputs": [],
   "source": [
    "import os\n",
    "\n",
    "import cmcrameri.cm as cmc\n",
    "import matplotlib.pyplot as plt\n",
    "import numpy as np\n",
    "import pandas as pd\n",
    "import scipy\n",
    "import scipy.stats as stats\n",
    "\n"
   ]
  },
  {
   "cell_type": "code",
   "execution_count": 2,
   "metadata": {},
   "outputs": [],
   "source": [
    "def myround(x, base=5):\n",
    "    return base * round(x/base)"
   ]
  },
  {
   "cell_type": "code",
   "execution_count": 3,
   "metadata": {},
   "outputs": [],
   "source": [
    "combined = pd.read_csv('/home/earthquakes1/homes/Rebecca/phd/stf/data/combined.csv')"
   ]
  },
  {
   "cell_type": "code",
   "execution_count": 4,
   "metadata": {},
   "outputs": [],
   "source": [
    "def get_stf(scardec_name, wanted_type = 'fctopt'):\n",
    "    db = combined[combined['scardec_name']==scardec_name]\n",
    "\n",
    "    time = []\n",
    "    momentrate = []\n",
    "\n",
    "    event = os.listdir(f'/home/earthquakes1/homes/Rebecca/phd/stf/data/scardec/{scardec_name}')\n",
    "    starts = [n for n, l in enumerate(event) if l.startswith(wanted_type)]\n",
    "    with open(f'/home/earthquakes1/homes/Rebecca/phd/stf/data/scardec/{scardec_name}/{event[starts[0]]}') as f:\n",
    "        lines = f.read().splitlines()\n",
    "\n",
    "    lines = lines[2:]\n",
    "    for line in lines:\n",
    "        split = line.split(' ')\n",
    "        split = [s for s in split if s not in ['', ' ', '\\n']]\n",
    "        time.append(float(split[0]))\n",
    "        momentrate.append(float(split[1]))\n",
    "\n",
    "    momentrate = np.array(momentrate)\n",
    "    return momentrate, time, db"
   ]
  },
  {
   "cell_type": "code",
   "execution_count": 5,
   "metadata": {},
   "outputs": [],
   "source": [
    "# looks for time value of root\n",
    "def f3(end_time, total_moment, time_opt, momentrate_opt, start, points_before_zero, proportion = 0.1):\n",
    "    dx = time_opt[1]-time_opt[0]\n",
    "    end_window = (end_time/dx)+points_before_zero\n",
    "    end = int(np.floor(end_window))\n",
    "    short = scipy.integrate.simpson(momentrate_opt[start:end], dx = dx)\n",
    "    return short-(total_moment*proportion)"
   ]
  },
  {
   "cell_type": "code",
   "execution_count": 6,
   "metadata": {},
   "outputs": [],
   "source": [
    "def plot_scatter_figures(proportion, root_times, moments, durations):\n",
    "    root_times = np.array(root_times)\n",
    "    moments = np.array(moments)\n",
    "    durations = np.array(durations)\n",
    "\n",
    "    plt.scatter(root_times, durations, c = np.log10(moments), cmap = cmc.batlow, alpha = 0.5)\n",
    "    plt.ylabel('Duration (s)')\n",
    "    plt.xlabel(f'time to release {proportion*100}% of moment (s)')\n",
    "    plt.colorbar(label = 'log10(moment)')\n",
    "    plt.savefig(f'/home/earthquakes1/homes/Rebecca/phd/stf/figures/moment_intervals/time_for_{proportion*100}_percent_moment_against_duration.png')\n",
    "    plt.close()\n",
    "\n",
    "    plt.scatter(root_times, np.log10(moments), c = durations, cmap = cmc.batlow, alpha = 0.5)\n",
    "    plt.ylabel('log10(moment)')\n",
    "    plt.xlabel(f'time to release {proportion*100}% of moment (s)')\n",
    "    plt.colorbar(label = 'Duration (s)')\n",
    "    plt.savefig(f'/home/earthquakes1/homes/Rebecca/phd/stf/figures/moment_intervals/time_for_{proportion*100}_percent_moment_against_moment.png')\n",
    "    plt.close()\n",
    "\n",
    "    plt.scatter(root_times/durations, np.log10(moments), c = durations, cmap = cmc.batlow, alpha = 0.5)\n",
    "    plt.ylabel('log10(moment)')\n",
    "    plt.xlabel(f'proportion of duration to release {proportion*100}% of moment')\n",
    "    plt.colorbar()\n",
    "    plt.xlim(0, 1)\n",
    "    plt.savefig(f'/home/earthquakes1/homes/Rebecca/phd/stf/figures/moment_intervals/fraction_of_duration_for_{proportion*100}_percent_moment_against_moment.png')\n",
    "    plt.close()"
   ]
  },
  {
   "cell_type": "code",
   "execution_count": 7,
   "metadata": {},
   "outputs": [],
   "source": [
    "def plot_hist_figures(proportion, root_times, durations):\n",
    "    root_times = np.array(root_times)\n",
    "    durations = np.array(durations)\n",
    "\n",
    "    plt.hist(root_times/durations, bins = 100)\n",
    "\n",
    "    plt.ylabel('Frequency')\n",
    "    plt.xlabel(f'Proportion of duration to release {proportion*100}% of moment')\n",
    "    plt.xlim(0, 1)\n",
    "    plt.show()\n",
    "    #plt.savefig(f'/home/earthquakes1/homes/Rebecca/phd/stf/figures/moment_intervals/histogram_fraction_of_duration_for_{proportion*100}_percent_moment.png')\n",
    "    #plt.close()"
   ]
  },
  {
   "cell_type": "code",
   "execution_count": 8,
   "metadata": {},
   "outputs": [
    {
     "name": "stdout",
     "output_type": "stream",
     "text": [
      "0.1\n",
      "0.2\n",
      "0.3\n",
      "0.4\n",
      "0.5\n",
      "0.6\n",
      "0.7\n",
      "0.8\n",
      "0.9\n"
     ]
    },
    {
     "data": {
      "image/png": "[encoded data removed]",
      "text/plain": [
       "<Figure size 640x480 with 1 Axes>"
      ]
     },
     "metadata": {},
     "output_type": "display_data"
    }
   ],
   "source": [
    "proportions_list = [0.1, 0.2, 0.3, 0.4, 0.5, 0.6, 0.7, 0.8, 0.9]\n",
    "\n",
    "all_durations = []\n",
    "all_root_times = []\n",
    "all_moments = []\n",
    "all_relative_root_times = []\n",
    "\n",
    "df = pd.DataFrame(columns = ['proportion', 'skew', 'skew statistic', 'skew pvalue',  'kurtosis', 'kurtosis statistic', 'kurtosis pvalue'])\n",
    "\n",
    "for proportion in proportions_list:\n",
    "    print(proportion)\n",
    "    durations = []\n",
    "    root_times = []\n",
    "    relative_root_times = []\n",
    "\n",
    "    diff = []\n",
    "    moments = []\n",
    "\n",
    "    for scardec_name in os.listdir('/home/earthquakes1/homes/Rebecca/phd/stf/data/scardec'):\n",
    "        #print(scardec_name)\n",
    "        momentrate_opt, time_opt, db = get_stf(scardec_name)\n",
    "\n",
    "        not_zero = np.where(momentrate_opt > 0)[0]\n",
    "\n",
    "        dx = time_opt[1]-time_opt[0]\n",
    "\n",
    "        start = min(not_zero)\n",
    "        end = max(not_zero)\n",
    "        points_before_zero = abs(min(time_opt)/dx)\n",
    "\n",
    "        duration = time_opt[end] - time_opt[start]\n",
    "        durations.append(duration)\n",
    "\n",
    "        start_time = time_opt[start]\n",
    "        end_time = time_opt[end]\n",
    "\n",
    "        total_moment = scipy.integrate.simpson(momentrate_opt[start:end], dx = time_opt[1]-time_opt[0])\n",
    "        moments.append(total_moment)\n",
    "        root, r = scipy.optimize.bisect(f3,\n",
    "                                        start_time+dx,\n",
    "                                        end_time,\n",
    "                                        rtol = 1e-6,\n",
    "                                        full_output = True,\n",
    "                                        args = (total_moment,\n",
    "                                                time_opt,\n",
    "                                                momentrate_opt,\n",
    "                                                start,\n",
    "                                                points_before_zero,\n",
    "                                                proportion,))\n",
    "        root_idx = np.floor(root/dx)\n",
    "        root_time = root_idx*dx\n",
    "        root_times.append(root_time)\n",
    "        relative_root_times.append(root_time-start_time)\n",
    "\n",
    "        if root_time-start_time > duration:\n",
    "            print('root time greater than duration, proportion:', proportion)\n",
    "            print(scardec_name)\n",
    "\n",
    "    root_times = np.array(root_times)\n",
    "    durations = np.array(durations)\n",
    "    moments = np.log10(np.array(moments))\n",
    "    relative_root_times = np.array(relative_root_times)\n",
    "\n",
    "    rel_root_times = relative_root_times/durations\n",
    "\n",
    "    rel_root_times = scipy.special.logit(rel_root_times)\n",
    "\n",
    "    skew = stats.skew(rel_root_times, nan_policy='omit')\n",
    "    kurtosis = stats.kurtosis(rel_root_times, nan_policy='omit')\n",
    "    kurtosis_test = stats.kurtosistest(rel_root_times, nan_policy='omit')\n",
    "    skew_test = stats.skewtest(rel_root_times, nan_policy='omit')\n",
    "\n",
    "    new_data = {'proportion': [proportion], 'skew': [skew], 'skew statistic': [skew_test[0]], 'skew pvalue': [skew_test[1]], 'kurtosis': [kurtosis], 'kurtosis statistic': [kurtosis_test[0]], 'kurtosis pvalue': [kurtosis_test[1]]}\n",
    "    df = pd.concat([df, pd.DataFrame(new_data)])\n",
    "\n",
    "    plt.hist(rel_root_times, bins = np.arange(-10, 10, 0.1), histtype='step')\n",
    "\n",
    "    #plt.savefig(f'/home/earthquakes1/homes/Rebecca/phd/stf/figures/moment_intervals/stacked_histogram_fraction_of_duration_for_{proportion*100}_percent_moment.png')"
   ]
  },
  {
   "cell_type": "code",
   "execution_count": 9,
   "metadata": {},
   "outputs": [
    {
     "name": "stdout",
     "output_type": "stream",
     "text": [
      "0.4412874798723445 0.7457860536183518 KurtosistestResult(statistic=7.272991581010379, pvalue=3.5161224399722137e-13) SkewtestResult(statistic=11.044783610700327, pvalue=2.3232672712903785e-28)\n"
     ]
    }
   ],
   "source": [
    "skew = stats.skew(rel_root_times)\n",
    "kurtosis = stats.kurtosis(rel_root_times)\n",
    "kurtosis_test = stats.kurtosistest(rel_root_times)\n",
    "skew_test = stats.skewtest(rel_root_times)\n",
    "print(skew, kurtosis, kurtosis_test, skew_test)"
   ]
  },
  {
   "cell_type": "code",
   "execution_count": 10,
   "metadata": {},
   "outputs": [
    {
     "data": {
      "text/html": [
       "<div>\n",
       "<style scoped>\n",
       "    .dataframe tbody tr th:only-of-type {\n",
       "        vertical-align: middle;\n",
       "    }\n",
       "\n",
       "    .dataframe tbody tr th {\n",
       "        vertical-align: top;\n",
       "    }\n",
       "\n",
       "    .dataframe thead th {\n",
       "        text-align: right;\n",
       "    }\n",
       "</style>\n",
       "<table border=\"1\" class=\"dataframe\">\n",
       "  <thead>\n",
       "    <tr style=\"text-align: right;\">\n",
       "      <th></th>\n",
       "      <th>proportion</th>\n",
       "      <th>skew</th>\n",
       "      <th>skew statistic</th>\n",
       "      <th>skew pvalue</th>\n",
       "      <th>kurtosis</th>\n",
       "      <th>kurtosis statistic</th>\n",
       "      <th>kurtosis pvalue</th>\n",
       "    </tr>\n",
       "  </thead>\n",
       "  <tbody>\n",
       "    <tr>\n",
       "      <th>0</th>\n",
       "      <td>0.1</td>\n",
       "      <td>-0.226720</td>\n",
       "      <td>-5.856192</td>\n",
       "      <td>4.736011e-09</td>\n",
       "      <td>0.507586</td>\n",
       "      <td>5.399723</td>\n",
       "      <td>6.674388e-08</td>\n",
       "    </tr>\n",
       "    <tr>\n",
       "      <th>0</th>\n",
       "      <td>0.2</td>\n",
       "      <td>-0.132714</td>\n",
       "      <td>-3.455882</td>\n",
       "      <td>5.484948e-04</td>\n",
       "      <td>0.576853</td>\n",
       "      <td>5.976272</td>\n",
       "      <td>2.283012e-09</td>\n",
       "    </tr>\n",
       "    <tr>\n",
       "      <th>0</th>\n",
       "      <td>0.3</td>\n",
       "      <td>-0.102021</td>\n",
       "      <td>-2.661331</td>\n",
       "      <td>7.783244e-03</td>\n",
       "      <td>0.533546</td>\n",
       "      <td>5.619127</td>\n",
       "      <td>1.919245e-08</td>\n",
       "    </tr>\n",
       "    <tr>\n",
       "      <th>0</th>\n",
       "      <td>0.4</td>\n",
       "      <td>-0.047901</td>\n",
       "      <td>-1.252061</td>\n",
       "      <td>2.105477e-01</td>\n",
       "      <td>0.605811</td>\n",
       "      <td>6.209139</td>\n",
       "      <td>5.327562e-10</td>\n",
       "    </tr>\n",
       "    <tr>\n",
       "      <th>0</th>\n",
       "      <td>0.5</td>\n",
       "      <td>0.016131</td>\n",
       "      <td>0.421846</td>\n",
       "      <td>6.731371e-01</td>\n",
       "      <td>0.708173</td>\n",
       "      <td>6.996674</td>\n",
       "      <td>2.621107e-12</td>\n",
       "    </tr>\n",
       "    <tr>\n",
       "      <th>0</th>\n",
       "      <td>0.6</td>\n",
       "      <td>0.105177</td>\n",
       "      <td>2.743199</td>\n",
       "      <td>6.084385e-03</td>\n",
       "      <td>0.827261</td>\n",
       "      <td>7.849393</td>\n",
       "      <td>4.180559e-15</td>\n",
       "    </tr>\n",
       "    <tr>\n",
       "      <th>0</th>\n",
       "      <td>0.7</td>\n",
       "      <td>0.233879</td>\n",
       "      <td>6.036411</td>\n",
       "      <td>1.575795e-09</td>\n",
       "      <td>0.803237</td>\n",
       "      <td>7.682473</td>\n",
       "      <td>1.560459e-14</td>\n",
       "    </tr>\n",
       "    <tr>\n",
       "      <th>0</th>\n",
       "      <td>0.8</td>\n",
       "      <td>0.365703</td>\n",
       "      <td>9.271846</td>\n",
       "      <td>1.829525e-20</td>\n",
       "      <td>0.692972</td>\n",
       "      <td>6.883080</td>\n",
       "      <td>5.857214e-12</td>\n",
       "    </tr>\n",
       "    <tr>\n",
       "      <th>0</th>\n",
       "      <td>0.9</td>\n",
       "      <td>0.441287</td>\n",
       "      <td>11.044784</td>\n",
       "      <td>2.323267e-28</td>\n",
       "      <td>0.745786</td>\n",
       "      <td>7.272992</td>\n",
       "      <td>3.516122e-13</td>\n",
       "    </tr>\n",
       "  </tbody>\n",
       "</table>\n",
       "</div>"
      ],
      "text/plain": [
       "   proportion      skew  skew statistic   skew pvalue  kurtosis  \\\n",
       "0         0.1 -0.226720       -5.856192  4.736011e-09  0.507586   \n",
       "0         0.2 -0.132714       -3.455882  5.484948e-04  0.576853   \n",
       "0         0.3 -0.102021       -2.661331  7.783244e-03  0.533546   \n",
       "0         0.4 -0.047901       -1.252061  2.105477e-01  0.605811   \n",
       "0         0.5  0.016131        0.421846  6.731371e-01  0.708173   \n",
       "0         0.6  0.105177        2.743199  6.084385e-03  0.827261   \n",
       "0         0.7  0.233879        6.036411  1.575795e-09  0.803237   \n",
       "0         0.8  0.365703        9.271846  1.829525e-20  0.692972   \n",
       "0         0.9  0.441287       11.044784  2.323267e-28  0.745786   \n",
       "\n",
       "   kurtosis statistic  kurtosis pvalue  \n",
       "0            5.399723     6.674388e-08  \n",
       "0            5.976272     2.283012e-09  \n",
       "0            5.619127     1.919245e-08  \n",
       "0            6.209139     5.327562e-10  \n",
       "0            6.996674     2.621107e-12  \n",
       "0            7.849393     4.180559e-15  \n",
       "0            7.682473     1.560459e-14  \n",
       "0            6.883080     5.857214e-12  \n",
       "0            7.272992     3.516122e-13  "
      ]
     },
     "execution_count": 10,
     "metadata": {},
     "output_type": "execute_result"
    }
   ],
   "source": [
    "df"
   ]
  },
  {
   "cell_type": "code",
   "execution_count": 11,
   "metadata": {},
   "outputs": [
    {
     "data": {
      "text/plain": [
       "array([2.87167962, 1.96711236, 1.57239664, ..., 1.32175582, 2.06746535,\n",
       "       1.79175947])"
      ]
     },
     "execution_count": 11,
     "metadata": {},
     "output_type": "execute_result"
    }
   ],
   "source": [
    "rel_root_times"
   ]
  },
  {
   "cell_type": "code",
   "execution_count": 12,
   "metadata": {},
   "outputs": [
    {
     "data": {
      "text/plain": [
       "0.4412874798723445"
      ]
     },
     "execution_count": 12,
     "metadata": {},
     "output_type": "execute_result"
    }
   ],
   "source": [
    "stats.skew(rel_root_times, nan_policy='omit')"
   ]
  },
  {
   "cell_type": "code",
   "execution_count": null,
   "metadata": {},
   "outputs": [],
   "source": []
  }
 ],
 "metadata": {
  "kernelspec": {
   "display_name": "Python 3",
   "language": "python",
   "name": "python3"
  },
  "language_info": {
   "codemirror_mode": {
    "name": "ipython",
    "version": 3
   },
   "file_extension": ".py",
   "mimetype": "text/x-python",
   "name": "python",
   "nbconvert_exporter": "python",
   "pygments_lexer": "ipython3",
   "version": "3.10.11"
  }
 },
 "nbformat": 4,
 "nbformat_minor": 2
}

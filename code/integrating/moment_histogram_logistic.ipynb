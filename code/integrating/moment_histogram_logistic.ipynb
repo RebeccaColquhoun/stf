{
 "cells": [
  {
   "cell_type": "code",
   "execution_count": 1,
   "metadata": {},
   "outputs": [],
   "source": [
    "import os\n",
    "\n",
    "import cmcrameri.cm as cmc\n",
    "import matplotlib.pyplot as plt\n",
    "import numpy as np\n",
    "import pandas as pd\n",
    "import scipy\n",
    "import scipy.stats as stats\n",
    "\n"
   ]
  },
  {
   "cell_type": "code",
   "execution_count": 2,
   "metadata": {},
   "outputs": [],
   "source": [
    "def myround(x, base=5):\n",
    "    return base * round(x/base)"
   ]
  },
  {
   "cell_type": "code",
   "execution_count": 3,
   "metadata": {},
   "outputs": [],
   "source": [
    "combined = pd.read_csv('/home/earthquakes1/homes/Rebecca/phd/stf/data/combined.csv')"
   ]
  },
  {
   "cell_type": "code",
   "execution_count": 4,
   "metadata": {},
   "outputs": [],
   "source": [
    "def get_stf(scardec_name, wanted_type = 'fctopt'):\n",
    "    db = combined[combined['scardec_name']==scardec_name]\n",
    "\n",
    "    time = []\n",
    "    momentrate = []\n",
    "\n",
    "    event = os.listdir(f'/home/earthquakes1/homes/Rebecca/phd/stf/data/scardec/{scardec_name}')\n",
    "    starts = [n for n, l in enumerate(event) if l.startswith(wanted_type)]\n",
    "    with open(f'/home/earthquakes1/homes/Rebecca/phd/stf/data/scardec/{scardec_name}/{event[starts[0]]}') as f:\n",
    "        lines = f.read().splitlines()\n",
    "\n",
    "    lines = lines[2:]\n",
    "    for line in lines:\n",
    "        split = line.split(' ')\n",
    "        split = [s for s in split if s not in ['', ' ', '\\n']]\n",
    "        time.append(float(split[0]))\n",
    "        momentrate.append(float(split[1]))\n",
    "\n",
    "    momentrate = np.array(momentrate)\n",
    "    return momentrate, time, db"
   ]
  },
  {
   "cell_type": "code",
   "execution_count": null,
   "metadata": {},
   "outputs": [],
   "source": [
    "# looks for time value of root\n",
    "def f3(end_time, total_moment, time_opt, momentrate_opt, start, points_before_zero, proportion = 0.1):\n",
    "    dx = time_opt[1]-time_opt[0]\n",
    "    end_window = (end_time/dx)+points_before_zero\n",
    "    end = int(np.floor(end_window))\n",
    "    if start == end:\n",
    "        end += 1\n",
    "    short = scipy.integrate.simpson(momentrate_opt[start:end], dx = dx)\n",
    "    return short-(total_moment*proportion)\n"
   ]
  },
  {
   "cell_type": "code",
   "execution_count": 6,
   "metadata": {},
   "outputs": [],
   "source": [
    "def plot_scatter_figures(proportion, root_times, moments, durations):\n",
    "    root_times = np.array(root_times)\n",
    "    moments = np.array(moments)\n",
    "    durations = np.array(durations)\n",
    "\n",
    "    plt.scatter(root_times, durations, c = np.log10(moments), cmap = cmc.batlow, alpha = 0.5)\n",
    "    plt.ylabel('Duration (s)')\n",
    "    plt.xlabel(f'time to release {proportion*100}% of moment (s)')\n",
    "    plt.colorbar(label = 'log10(moment)')\n",
    "    plt.savefig(f'/home/earthquakes1/homes/Rebecca/phd/stf/figures/moment_intervals/time_for_{proportion*100}_percent_moment_against_duration.png')\n",
    "    plt.close()\n",
    "\n",
    "    plt.scatter(root_times, np.log10(moments), c = durations, cmap = cmc.batlow, alpha = 0.5)\n",
    "    plt.ylabel('log10(moment)')\n",
    "    plt.xlabel(f'time to release {proportion*100}% of moment (s)')\n",
    "    plt.colorbar(label = 'Duration (s)')\n",
    "    plt.savefig(f'/home/earthquakes1/homes/Rebecca/phd/stf/figures/moment_intervals/time_for_{proportion*100}_percent_moment_against_moment.png')\n",
    "    plt.close()\n",
    "\n",
    "    plt.scatter(root_times/durations, np.log10(moments), c = durations, cmap = cmc.batlow, alpha = 0.5)\n",
    "    plt.ylabel('log10(moment)')\n",
    "    plt.xlabel(f'proportion of duration to release {proportion*100}% of moment')\n",
    "    plt.colorbar()\n",
    "    plt.xlim(0, 1)\n",
    "    plt.savefig(f'/home/earthquakes1/homes/Rebecca/phd/stf/figures/moment_intervals/fraction_of_duration_for_{proportion*100}_percent_moment_against_moment.png')\n",
    "    plt.close()"
   ]
  },
  {
   "cell_type": "code",
   "execution_count": 7,
   "metadata": {},
   "outputs": [],
   "source": [
    "def plot_hist_figures(proportion, root_times, durations):\n",
    "    root_times = np.array(root_times)\n",
    "    durations = np.array(durations)\n",
    "\n",
    "    plt.hist(root_times/durations, bins = 100)\n",
    "\n",
    "    plt.ylabel('Frequency')\n",
    "    plt.xlabel(f'Proportion of duration to release {proportion*100}% of moment')\n",
    "    plt.xlim(0, 1)\n",
    "    plt.show()\n",
    "    #plt.savefig(f'/home/earthquakes1/homes/Rebecca/phd/stf/figures/moment_intervals/histogram_fraction_of_duration_for_{proportion*100}_percent_moment.png')\n",
    "    #plt.close()"
   ]
  },
  {
   "cell_type": "code",
   "execution_count": 8,
   "metadata": {},
   "outputs": [
    {
     "name": "stdout",
     "output_type": "stream",
     "text": [
      "0.1\n",
      "0.2\n",
      "0.3\n",
      "0.4\n",
      "0.5\n",
      "0.6\n",
      "0.7\n",
      "0.8\n",
      "0.9\n"
     ]
    },
    {
     "data": {
      "image/png": "[encoded data removed]",
      "text/plain": [
       "<Figure size 640x480 with 1 Axes>"
      ]
     },
     "metadata": {},
     "output_type": "display_data"
    }
   ],
   "source": [
    "proportions_list = [0.1, 0.2, 0.3, 0.4, 0.5, 0.6, 0.7, 0.8, 0.9]\n",
    "\n",
    "all_durations = []\n",
    "all_root_times = []\n",
    "all_moments = []\n",
    "all_relative_root_times = []\n",
    "\n",
    "df = pd.DataFrame(columns = ['proportion', 'skew', 'skew statistic', 'skew pvalue',  'kurtosis', 'kurtosis statistic', 'kurtosis pvalue'])\n",
    "\n",
    "for proportion in proportions_list:\n",
    "    print(proportion)\n",
    "    durations = []\n",
    "    root_times = []\n",
    "    relative_root_times = []\n",
    "\n",
    "    diff = []\n",
    "    moments = []\n",
    "\n",
    "    for scardec_name in os.listdir('/home/earthquakes1/homes/Rebecca/phd/stf/data/scardec'):\n",
    "        #print(scardec_name)\n",
    "        momentrate_opt, time_opt, db = get_stf(scardec_name, wanted_type='fctmoy')\n",
    "\n",
    "        not_zero = np.where(momentrate_opt > 0)[0]\n",
    "\n",
    "        dx = time_opt[1]-time_opt[0]\n",
    "\n",
    "        start = min(not_zero)\n",
    "        end = max(not_zero)\n",
    "        points_before_zero = abs(min(time_opt)/dx)\n",
    "\n",
    "        duration = time_opt[end] - time_opt[start]\n",
    "        durations.append(duration)\n",
    "\n",
    "        start_time = time_opt[start]\n",
    "        end_time = time_opt[end]\n",
    "\n",
    "        total_moment = scipy.integrate.simpson(momentrate_opt[start:end], dx = time_opt[1]-time_opt[0])\n",
    "        moments.append(total_moment)\n",
    "        root, r = scipy.optimize.bisect(f3,\n",
    "                                        start_time+dx,\n",
    "                                        end_time,\n",
    "                                        rtol = 1e-6,\n",
    "                                        full_output = True,\n",
    "                                        args = (total_moment,\n",
    "                                                time_opt,\n",
    "                                                momentrate_opt,\n",
    "                                                start,\n",
    "                                                points_before_zero,\n",
    "                                                proportion,))\n",
    "        root_idx = np.floor(root/dx)\n",
    "        root_time = root_idx*dx\n",
    "        root_times.append(root_time)\n",
    "        relative_root_times.append(root_time-start_time)\n",
    "\n",
    "        if root_time-start_time > duration:\n",
    "            print('root time greater than duration, proportion:', proportion)\n",
    "            print(scardec_name)\n",
    "\n",
    "    root_times = np.array(root_times)\n",
    "    durations = np.array(durations)\n",
    "    moments = np.log10(np.array(moments))\n",
    "    relative_root_times = np.array(relative_root_times)\n",
    "\n",
    "    rel_root_times = relative_root_times/durations\n",
    "\n",
    "    rel_root_times = scipy.special.logit(rel_root_times)\n",
    "\n",
    "    skew = stats.skew(rel_root_times, nan_policy='omit')\n",
    "    kurtosis = stats.kurtosis(rel_root_times, nan_policy='omit')\n",
    "    kurtosis_test = stats.kurtosistest(rel_root_times, nan_policy='omit')\n",
    "    skew_test = stats.skewtest(rel_root_times, nan_policy='omit')\n",
    "\n",
    "    new_data = {'proportion': [proportion], 'skew': [skew], 'skew statistic': [skew_test[0]], 'skew pvalue': [skew_test[1]], 'kurtosis': [kurtosis], 'kurtosis statistic': [kurtosis_test[0]], 'kurtosis pvalue': [kurtosis_test[1]]}\n",
    "    df = pd.concat([df, pd.DataFrame(new_data)])\n",
    "\n",
    "    plt.hist(rel_root_times, bins = np.arange(-10, 10, 0.1), histtype='step')\n",
    "\n",
    "    #plt.savefig(f'/home/earthquakes1/homes/Rebecca/phd/stf/figures/moment_intervals/stacked_histogram_fraction_of_duration_for_{proportion*100}_percent_moment.png')"
   ]
  },
  {
   "cell_type": "code",
   "execution_count": 9,
   "metadata": {},
   "outputs": [
    {
     "name": "stdout",
     "output_type": "stream",
     "text": [
      "0.44175526998760944 0.028580386781594136 KurtosistestResult(statistic=0.4259722078885244, pvalue=0.6701280975079851) SkewtestResult(statistic=11.055551860629372, pvalue=2.060656024440308e-28)\n"
     ]
    }
   ],
   "source": [
    "skew = stats.skew(rel_root_times)\n",
    "kurtosis = stats.kurtosis(rel_root_times)\n",
    "kurtosis_test = stats.kurtosistest(rel_root_times)\n",
    "skew_test = stats.skewtest(rel_root_times)\n",
    "print(skew, kurtosis, kurtosis_test, skew_test)"
   ]
  },
  {
   "cell_type": "code",
   "execution_count": 10,
   "metadata": {},
   "outputs": [
    {
     "data": {
      "text/html": [
       "<div>\n",
       "<style scoped>\n",
       "    .dataframe tbody tr th:only-of-type {\n",
       "        vertical-align: middle;\n",
       "    }\n",
       "\n",
       "    .dataframe tbody tr th {\n",
       "        vertical-align: top;\n",
       "    }\n",
       "\n",
       "    .dataframe thead th {\n",
       "        text-align: right;\n",
       "    }\n",
       "</style>\n",
       "<table border=\"1\" class=\"dataframe\">\n",
       "  <thead>\n",
       "    <tr style=\"text-align: right;\">\n",
       "      <th></th>\n",
       "      <th>proportion</th>\n",
       "      <th>skew</th>\n",
       "      <th>skew statistic</th>\n",
       "      <th>skew pvalue</th>\n",
       "      <th>kurtosis</th>\n",
       "      <th>kurtosis statistic</th>\n",
       "      <th>kurtosis pvalue</th>\n",
       "    </tr>\n",
       "  </thead>\n",
       "  <tbody>\n",
       "    <tr>\n",
       "      <th>0</th>\n",
       "      <td>0.1</td>\n",
       "      <td>0.053397</td>\n",
       "      <td>1.395513</td>\n",
       "      <td>1.628613e-01</td>\n",
       "      <td>0.307491</td>\n",
       "      <td>3.558258</td>\n",
       "      <td>0.000373</td>\n",
       "    </tr>\n",
       "    <tr>\n",
       "      <th>0</th>\n",
       "      <td>0.2</td>\n",
       "      <td>0.124370</td>\n",
       "      <td>3.240296</td>\n",
       "      <td>1.194059e-03</td>\n",
       "      <td>0.143168</td>\n",
       "      <td>1.807551</td>\n",
       "      <td>0.070676</td>\n",
       "    </tr>\n",
       "    <tr>\n",
       "      <th>0</th>\n",
       "      <td>0.3</td>\n",
       "      <td>0.199773</td>\n",
       "      <td>5.174197</td>\n",
       "      <td>2.288928e-07</td>\n",
       "      <td>0.147842</td>\n",
       "      <td>1.860874</td>\n",
       "      <td>0.062762</td>\n",
       "    </tr>\n",
       "    <tr>\n",
       "      <th>0</th>\n",
       "      <td>0.4</td>\n",
       "      <td>0.275237</td>\n",
       "      <td>7.069220</td>\n",
       "      <td>1.558072e-12</td>\n",
       "      <td>0.139787</td>\n",
       "      <td>1.768845</td>\n",
       "      <td>0.076920</td>\n",
       "    </tr>\n",
       "    <tr>\n",
       "      <th>0</th>\n",
       "      <td>0.5</td>\n",
       "      <td>0.332883</td>\n",
       "      <td>8.482363</td>\n",
       "      <td>2.206654e-17</td>\n",
       "      <td>0.201953</td>\n",
       "      <td>2.462322</td>\n",
       "      <td>0.013804</td>\n",
       "    </tr>\n",
       "    <tr>\n",
       "      <th>0</th>\n",
       "      <td>0.6</td>\n",
       "      <td>0.371689</td>\n",
       "      <td>9.414597</td>\n",
       "      <td>4.749009e-21</td>\n",
       "      <td>0.340119</td>\n",
       "      <td>3.878306</td>\n",
       "      <td>0.000105</td>\n",
       "    </tr>\n",
       "    <tr>\n",
       "      <th>0</th>\n",
       "      <td>0.7</td>\n",
       "      <td>0.365940</td>\n",
       "      <td>9.277501</td>\n",
       "      <td>1.735002e-20</td>\n",
       "      <td>0.369432</td>\n",
       "      <td>4.158845</td>\n",
       "      <td>0.000032</td>\n",
       "    </tr>\n",
       "    <tr>\n",
       "      <th>0</th>\n",
       "      <td>0.8</td>\n",
       "      <td>0.384797</td>\n",
       "      <td>9.725805</td>\n",
       "      <td>2.340466e-22</td>\n",
       "      <td>0.201922</td>\n",
       "      <td>2.461980</td>\n",
       "      <td>0.013817</td>\n",
       "    </tr>\n",
       "    <tr>\n",
       "      <th>0</th>\n",
       "      <td>0.9</td>\n",
       "      <td>0.441755</td>\n",
       "      <td>11.055552</td>\n",
       "      <td>2.060656e-28</td>\n",
       "      <td>0.028580</td>\n",
       "      <td>0.425972</td>\n",
       "      <td>0.670128</td>\n",
       "    </tr>\n",
       "  </tbody>\n",
       "</table>\n",
       "</div>"
      ],
      "text/plain": [
       "   proportion      skew  skew statistic   skew pvalue  kurtosis  \\\n",
       "0         0.1  0.053397        1.395513  1.628613e-01  0.307491   \n",
       "0         0.2  0.124370        3.240296  1.194059e-03  0.143168   \n",
       "0         0.3  0.199773        5.174197  2.288928e-07  0.147842   \n",
       "0         0.4  0.275237        7.069220  1.558072e-12  0.139787   \n",
       "0         0.5  0.332883        8.482363  2.206654e-17  0.201953   \n",
       "0         0.6  0.371689        9.414597  4.749009e-21  0.340119   \n",
       "0         0.7  0.365940        9.277501  1.735002e-20  0.369432   \n",
       "0         0.8  0.384797        9.725805  2.340466e-22  0.201922   \n",
       "0         0.9  0.441755       11.055552  2.060656e-28  0.028580   \n",
       "\n",
       "   kurtosis statistic  kurtosis pvalue  \n",
       "0            3.558258         0.000373  \n",
       "0            1.807551         0.070676  \n",
       "0            1.860874         0.062762  \n",
       "0            1.768845         0.076920  \n",
       "0            2.462322         0.013804  \n",
       "0            3.878306         0.000105  \n",
       "0            4.158845         0.000032  \n",
       "0            2.461980         0.013817  \n",
       "0            0.425972         0.670128  "
      ]
     },
     "execution_count": 10,
     "metadata": {},
     "output_type": "execute_result"
    }
   ],
   "source": [
    "df"
   ]
  },
  {
   "cell_type": "code",
   "execution_count": 11,
   "metadata": {},
   "outputs": [
    {
     "data": {
      "text/plain": [
       "array([ 1.62713749,  0.78353124, -0.62168822, ...,  0.23841102,\n",
       "        1.51982575,  1.07992016])"
      ]
     },
     "execution_count": 11,
     "metadata": {},
     "output_type": "execute_result"
    }
   ],
   "source": [
    "rel_root_times"
   ]
  },
  {
   "cell_type": "code",
   "execution_count": 12,
   "metadata": {},
   "outputs": [
    {
     "data": {
      "text/plain": [
       "0.44175526998760944"
      ]
     },
     "execution_count": 12,
     "metadata": {},
     "output_type": "execute_result"
    }
   ],
   "source": [
    "stats.skew(rel_root_times, nan_policy='omit')"
   ]
  },
  {
   "cell_type": "code",
   "execution_count": null,
   "metadata": {},
   "outputs": [],
   "source": []
  }
 ],
 "metadata": {
  "kernelspec": {
   "display_name": "Python 3",
   "language": "python",
   "name": "python3"
  },
  "language_info": {
   "codemirror_mode": {
    "name": "ipython",
    "version": 3
   },
   "file_extension": ".py",
   "mimetype": "text/x-python",
   "name": "python",
   "nbconvert_exporter": "python",
   "pygments_lexer": "ipython3",
   "version": "3.10.11"
  }
 },
 "nbformat": 4,
 "nbformat_minor": 2
}

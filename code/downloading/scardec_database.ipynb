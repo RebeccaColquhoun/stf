{
 "cells": [
  {
   "cell_type": "markdown",
   "metadata": {
    "vscode": {
     "languageId": "plaintext"
    }
   },
   "source": [
    "### FORMAT"
   ]
  },
  {
   "cell_type": "markdown",
   "metadata": {},
   "source": [
    "\n",
    "\n",
    "The downloaded file is an archived file which contains n directories for the n requested earthquakes. Each directory refers to the corresponding earthquake by the name FCTs_YYYYMMDD_HHMMSS_Name, where YYYY, MM, DD, HH, MM, SS are the year, month, day, hour, minute, second of the NEIC origin time, respectively. Name is the Flinn-Engdahl name of the earthquake location.\n",
    "\n",
    "Inside each earthquake directory, two files are provided, for the average STF (file fctmoysource_YYYYMMDD_HHMMSS_Name) and for the optimal STF (file fctoptsource_YYYYMMDD_HHMMSS_Name)\n",
    "\n",
    "These two STF files have the same format:\n",
    "\n",
    "    1st line: YYYY MM DD HH MM SS'.0' Latitude Longitude [origin time and epicentral location from NEIC]\n",
    "    2nd line: Depth(km) M0(N.m) Mw strike1(°) dip1(°) rake1(°) strike2(°) dip2(°) rake2(°) [all from SCARDEC]\n",
    "    All the other lines are the temporal STF, with format: time(s), moment rate(N.m/s)\n",
    "\n",
    "SCARDEC directory contains ALL_MOY_and_OPTI_2022_MAJ_till_31122022"
   ]
  },
  {
   "cell_type": "code",
   "execution_count": 11,
   "metadata": {},
   "outputs": [],
   "source": [
    "import scipy\n",
    "import matplotlib.pyplot as plt\n",
    "import numpy as np\n",
    "import os\n",
    "import pandas as pd"
   ]
  },
  {
   "cell_type": "code",
   "execution_count": 12,
   "metadata": {},
   "outputs": [],
   "source": [
    "events = os.listdir('/home/earthquakes1/homes/Rebecca/phd/stf/data/scardec/')"
   ]
  },
  {
   "cell_type": "code",
   "execution_count": 13,
   "metadata": {},
   "outputs": [],
   "source": [
    "columns = ['scardec_name', 'year', 'month', 'day', 'hour', 'minute', 'second', 'latitude', 'longitude', 'depth', 'scardec_magnitude', 'scardec_mag_type']\n",
    "df = pd.DataFrame(columns=columns)"
   ]
  },
  {
   "cell_type": "code",
   "execution_count": 14,
   "metadata": {},
   "outputs": [],
   "source": [
    "for i in range(0, len(events)):\n",
    "    #print(events[i])\n",
    "    event = os.listdir(f'/home/earthquakes1/homes/Rebecca/phd/stf/data/scardec/{events[i]}')\n",
    "    starts = [n for n, l in enumerate(event) if l.startswith('fctopt')]\n",
    "\n",
    "    with open(f'/home/earthquakes1/homes/Rebecca/phd/stf/data/scardec/{events[i]}/{event[starts[0]]}') as f:\n",
    "        lines = f.readlines()\n",
    "\n",
    "    line0 = lines[0].strip('\\n').split(' ')\n",
    "    line1 = lines[1].strip('\\n').split(' ')\n",
    "\n",
    "    df1 = pd.DataFrame({'scardec_name': [events[i]],\n",
    "                        'year': int(line0[0]),\n",
    "                        'month': int(line0[1]),\n",
    "                        'day': int(line0[2]),\n",
    "                        'hour': int(line0[3]),\n",
    "                        'minute': int(line0[4]),\n",
    "                        'second': float(line0[5]),\n",
    "                        'latitude': float(line0[6]),\n",
    "                        'longitude': float(line0[7]),\n",
    "                        'depth': float(line1[0]),\n",
    "                        'moment': float(line1[1]),\n",
    "                        'scardec_magnitude': float(line1[2]),\n",
    "                        'scardec_mag_type': 'mw'})\n",
    "\n",
    "    df = pd.concat([df, df1], ignore_index=True)\n",
    "\n"
   ]
  },
  {
   "cell_type": "code",
   "execution_count": 15,
   "metadata": {},
   "outputs": [],
   "source": [
    "df.to_csv('/home/earthquakes1/homes/Rebecca/phd/stf/data/scardec.csv', index=False)"
   ]
  },
  {
   "cell_type": "code",
   "execution_count": null,
   "metadata": {},
   "outputs": [],
   "source": []
  }
 ],
 "metadata": {
  "kernelspec": {
   "display_name": "rlc5",
   "language": "python",
   "name": "python3"
  },
  "language_info": {
   "codemirror_mode": {
    "name": "ipython",
    "version": 3
   },
   "file_extension": ".py",
   "mimetype": "text/x-python",
   "name": "python",
   "nbconvert_exporter": "python",
   "pygments_lexer": "ipython3",
   "version": "3.10.11"
  }
 },
 "nbformat": 4,
 "nbformat_minor": 2
}

{
 "cells": [
  {
   "cell_type": "code",
   "execution_count": 18,
   "metadata": {},
   "outputs": [],
   "source": [
    "import matplotlib.pyplot as plt\n",
    "import numpy as np\n",
    "import pandas as pd\n",
    "import scipy\n",
    "import obspy\n",
    "import os\n",
    "import re"
   ]
  },
  {
   "cell_type": "code",
   "execution_count": 19,
   "metadata": {},
   "outputs": [],
   "source": [
    "USGS_db = pd.DataFrame(columns = ['event_id', 'year', 'month', 'day', 'hour', 'minute', 'second', 'alt_exists'])"
   ]
  },
  {
   "cell_type": "code",
   "execution_count": 20,
   "metadata": {},
   "outputs": [],
   "source": [
    "USGS_files = '/home/earthquakes1/homes/Rebecca/phd/stf/data/USGS/'\n",
    "files_list = os.listdir(USGS_files)\n",
    "for event in files_list:\n",
    "    if event.endswith('.txt') and not event.endswith('_notes.txt') and not event.endswith('_alt.txt') and not event == 'catalog.txt':\n",
    "        year = event[0:4]\n",
    "        month = event[4:6]\n",
    "        day = event[6:8]\n",
    "        hour = event[9:11]\n",
    "        minute = event[11:13]\n",
    "        second = event[13:15]\n",
    "\n",
    "        if os.path.exists(USGS_files + event[:-4] + '_alt.txt'):\n",
    "            alt_exists = True\n",
    "        else:\n",
    "            alt_exists = False\n",
    "\n",
    "        df1 = pd.DataFrame([[event, year, month, day, hour, minute, second, alt_exists]], columns = ['event_id', 'year', 'month', 'day', 'hour', 'minute', 'second', 'alt_exists'])\n",
    "\n",
    "        USGS_db = pd.concat([USGS_db, df1], ignore_index=True)\n"
   ]
  },
  {
   "cell_type": "code",
   "execution_count": 21,
   "metadata": {},
   "outputs": [],
   "source": [
    "USGS_db.to_csv('/home/earthquakes1/homes/Rebecca/phd/stf/data/usgs.csv', index=False)"
   ]
  },
  {
   "cell_type": "code",
   "execution_count": null,
   "metadata": {},
   "outputs": [],
   "source": []
  }
 ],
 "metadata": {
  "kernelspec": {
   "display_name": "rlc5",
   "language": "python",
   "name": "python3"
  },
  "language_info": {
   "codemirror_mode": {
    "name": "ipython",
    "version": 3
   },
   "file_extension": ".py",
   "mimetype": "text/x-python",
   "name": "python",
   "nbconvert_exporter": "python",
   "pygments_lexer": "ipython3",
   "version": "3.10.11"
  }
 },
 "nbformat": 4,
 "nbformat_minor": 2
}

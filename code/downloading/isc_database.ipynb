{
 "cells": [
  {
   "cell_type": "code",
   "execution_count": 7,
   "metadata": {},
   "outputs": [],
   "source": [
    "import scipy\n",
    "import matplotlib.pyplot as plt\n",
    "import numpy\n",
    "import os\n",
    "import pandas as pd\n",
    "import obspy"
   ]
  },
  {
   "cell_type": "code",
   "execution_count": 8,
   "metadata": {},
   "outputs": [],
   "source": [
    "events = os.listdir('/home/earthquakes1/homes/Rebecca/phd/stf/data/isc/')"
   ]
  },
  {
   "cell_type": "code",
   "execution_count": 9,
   "metadata": {},
   "outputs": [],
   "source": [
    "columns = ['name', 'year', 'month', 'day', 'hour', 'minute', 'second', 'latitude', 'longitude', 'depth', 'isc_magnitude', 'isc_preferred_mag_type', 'isc_preferred_mag_unc']"
   ]
  },
  {
   "cell_type": "code",
   "execution_count": 10,
   "metadata": {},
   "outputs": [],
   "source": [
    "df = pd.DataFrame(columns=columns)"
   ]
  },
  {
   "cell_type": "code",
   "execution_count": 11,
   "metadata": {},
   "outputs": [],
   "source": [
    "for event in events:\n",
    "\n",
    "    cat = obspy.read_events(f'/home/earthquakes1/homes/Rebecca/phd/stf/data/isc/{event}/{event}.xml')\n",
    "    #print(cat)\n",
    "\n",
    "    df1 = pd.DataFrame({'name': [event],\n",
    "                        'year': cat[0].origins[0].time.year,\n",
    "                        'month': cat[0].origins[0].time.month,\n",
    "                        'day': cat[0].origins[0].time.day,\n",
    "                        'hour': cat[0].origins[0].time.hour,\n",
    "                        'minute': cat[0].origins[0].time.minute,\n",
    "                        'second': cat[0].origins[0].time.second,\n",
    "                        'latitude': cat[0].origins[0].latitude,\n",
    "                        'longitude': cat[0].origins[0].longitude,\n",
    "                        'depth': cat[0].origins[0].depth/1000,\n",
    "                        'isc_magnitude': cat[0].magnitudes[0].mag,\n",
    "                        'isc_preferred_mag_type':  cat[0].magnitudes[0].magnitude_type,\n",
    "                        'isc_preferred_mag_unc': cat[0].magnitudes[0].mag_errors.uncertainty})\n",
    "\n",
    "    df = pd.concat([df, df1])\n",
    "\n"
   ]
  },
  {
   "cell_type": "code",
   "execution_count": 12,
   "metadata": {},
   "outputs": [],
   "source": [
    "df.to_csv('/home/earthquakes1/homes/Rebecca/phd/stf/data/isc.csv', index=False)"
   ]
  },
  {
   "cell_type": "code",
   "execution_count": null,
   "metadata": {},
   "outputs": [],
   "source": []
  }
 ],
 "metadata": {
  "kernelspec": {
   "display_name": "rlc5",
   "language": "python",
   "name": "python3"
  },
  "language_info": {
   "codemirror_mode": {
    "name": "ipython",
    "version": 3
   },
   "file_extension": ".py",
   "mimetype": "text/x-python",
   "name": "python",
   "nbconvert_exporter": "python",
   "pygments_lexer": "ipython3",
   "version": "3.10.11"
  }
 },
 "nbformat": 4,
 "nbformat_minor": 2
}
